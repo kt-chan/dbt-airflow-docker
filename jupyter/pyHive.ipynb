{
 "cells": [
  {
   "cell_type": "code",
   "execution_count": 1,
   "id": "1ef983f9-cb79-4168-80b9-c43d538cad26",
   "metadata": {},
   "outputs": [
    {
     "name": "stdout",
     "output_type": "stream",
     "text": [
      "Requirement already satisfied: sqlalchemy in /opt/conda/lib/python3.9/site-packages (1.4.36)\n",
      "Requirement already satisfied: greenlet!=0.4.17 in /opt/conda/lib/python3.9/site-packages (from sqlalchemy) (1.1.2)\n",
      "Requirement already satisfied: pyhive in /opt/conda/lib/python3.9/site-packages (0.6.5)\n",
      "Requirement already satisfied: python-dateutil in /opt/conda/lib/python3.9/site-packages (from pyhive) (2.8.2)\n",
      "Requirement already satisfied: future in /opt/conda/lib/python3.9/site-packages (from pyhive) (0.18.2)\n",
      "Requirement already satisfied: six>=1.5 in /opt/conda/lib/python3.9/site-packages (from python-dateutil->pyhive) (1.16.0)\n",
      "Requirement already satisfied: thrift in /opt/conda/lib/python3.9/site-packages (0.16.0)\n",
      "Requirement already satisfied: six>=1.7.2 in /opt/conda/lib/python3.9/site-packages (from thrift) (1.16.0)\n",
      "Requirement already satisfied: sasl in /opt/conda/lib/python3.9/site-packages (0.3.1)\n",
      "Requirement already satisfied: six in /opt/conda/lib/python3.9/site-packages (from sasl) (1.16.0)\n",
      "Requirement already satisfied: thrift-sasl in /opt/conda/lib/python3.9/site-packages (0.4.3)\n",
      "Requirement already satisfied: pure-sasl>=0.6.2 in /opt/conda/lib/python3.9/site-packages (from thrift-sasl) (0.6.2)\n",
      "Requirement already satisfied: thrift>=0.10.0 in /opt/conda/lib/python3.9/site-packages (from thrift-sasl) (0.16.0)\n",
      "Requirement already satisfied: six>=1.13.0 in /opt/conda/lib/python3.9/site-packages (from thrift-sasl) (1.16.0)\n"
     ]
    }
   ],
   "source": [
    "!pip install sqlalchemy\n",
    "!pip install pyhive\n",
    "!pip install thrift\n",
    "!pip install sasl\n",
    "!pip install thrift-sasl \n",
    "\n",
    "import sqlalchemy\n",
    "import pandas as pd\n",
    "from sqlalchemy.engine import create_engine\n"
   ]
  },
  {
   "cell_type": "code",
   "execution_count": 2,
   "id": "5208d552-5353-43ed-abfc-83678f55d5b0",
   "metadata": {},
   "outputs": [
    {
     "data": {
      "text/html": [
       "<div>\n",
       "<style scoped>\n",
       "    .dataframe tbody tr th:only-of-type {\n",
       "        vertical-align: middle;\n",
       "    }\n",
       "\n",
       "    .dataframe tbody tr th {\n",
       "        vertical-align: top;\n",
       "    }\n",
       "\n",
       "    .dataframe thead th {\n",
       "        text-align: right;\n",
       "    }\n",
       "</style>\n",
       "<table border=\"1\" class=\"dataframe\">\n",
       "  <thead>\n",
       "    <tr style=\"text-align: right;\">\n",
       "      <th></th>\n",
       "      <th>namespace</th>\n",
       "    </tr>\n",
       "  </thead>\n",
       "  <tbody>\n",
       "    <tr>\n",
       "      <th>0</th>\n",
       "      <td>default</td>\n",
       "    </tr>\n",
       "    <tr>\n",
       "      <th>1</th>\n",
       "      <td>sample</td>\n",
       "    </tr>\n",
       "  </tbody>\n",
       "</table>\n",
       "</div>"
      ],
      "text/plain": [
       "  namespace\n",
       "0   default\n",
       "1    sample"
      ]
     },
     "execution_count": 2,
     "metadata": {},
     "output_type": "execute_result"
    }
   ],
   "source": [
    "\n",
    "engine = create_engine('hive://spark-master:10000/default')\n",
    "pd.read_sql(\"show databases\",con=engine)\n"
   ]
  },
  {
   "cell_type": "code",
   "execution_count": 4,
   "id": "95e9bfe7-b610-42a7-a76a-d7511497432d",
   "metadata": {},
   "outputs": [
    {
     "data": {
      "text/html": [
       "<div>\n",
       "<style scoped>\n",
       "    .dataframe tbody tr th:only-of-type {\n",
       "        vertical-align: middle;\n",
       "    }\n",
       "\n",
       "    .dataframe tbody tr th {\n",
       "        vertical-align: top;\n",
       "    }\n",
       "\n",
       "    .dataframe thead th {\n",
       "        text-align: right;\n",
       "    }\n",
       "</style>\n",
       "<table border=\"1\" class=\"dataframe\">\n",
       "  <thead>\n",
       "    <tr style=\"text-align: right;\">\n",
       "      <th></th>\n",
       "      <th>Result</th>\n",
       "    </tr>\n",
       "  </thead>\n",
       "  <tbody>\n",
       "  </tbody>\n",
       "</table>\n",
       "</div>"
      ],
      "text/plain": [
       "Empty DataFrame\n",
       "Columns: [Result]\n",
       "Index: []"
      ]
     },
     "execution_count": 4,
     "metadata": {},
     "output_type": "execute_result"
    }
   ],
   "source": [
    "pd.read_sql(\"create database IF NOT EXISTS sample\",con=engine)\n",
    "pd.read_sql(\"use sample\", con=engine)\n",
    "pd.read_sql(\"create table if not exists employee ( eid int, name String )\",con=engine)\n",
    "pd.read_sql(\"insert into employee values (1, 'a') , (2, 'b') \",con=engine)\n",
    "\n"
   ]
  },
  {
   "cell_type": "code",
   "execution_count": null,
   "id": "c79fca35-b428-40f8-9a84-271e7eec3f15",
   "metadata": {},
   "outputs": [],
   "source": [
    "pd.read_sql(\"show tables\", con=engine)"
   ]
  },
  {
   "cell_type": "code",
   "execution_count": null,
   "id": "6184a37e-ed3e-4792-93e4-11fbcf9aee8a",
   "metadata": {},
   "outputs": [],
   "source": [
    "df = pd.read_sql_query(\" select * from employee \",con=engine)\n",
    "df"
   ]
  },
  {
   "cell_type": "code",
   "execution_count": null,
   "id": "a4e61ce5-7648-4fde-bd44-e0fe802f59e8",
   "metadata": {},
   "outputs": [],
   "source": []
  }
 ],
 "metadata": {
  "kernelspec": {
   "display_name": "Python 3 (ipykernel)",
   "language": "python",
   "name": "python3"
  },
  "language_info": {
   "codemirror_mode": {
    "name": "ipython",
    "version": 3
   },
   "file_extension": ".py",
   "mimetype": "text/x-python",
   "name": "python",
   "nbconvert_exporter": "python",
   "pygments_lexer": "ipython3",
   "version": "3.9.12"
  }
 },
 "nbformat": 4,
 "nbformat_minor": 5
}
