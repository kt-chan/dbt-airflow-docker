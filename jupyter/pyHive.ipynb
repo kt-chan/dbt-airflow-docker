{
 "cells": [
  {
   "cell_type": "code",
   "execution_count": null,
   "id": "1ef983f9-cb79-4168-80b9-c43d538cad26",
   "metadata": {},
   "outputs": [],
   "source": [
    "!pip install sqlalchemy\n",
    "#!pip install pyhive\n",
    "#!pip install thrift\n",
    "#!pip install sasl\n",
    "#!pip install thrift-sasl \n",
    "\n",
    "import sqlalchemy\n",
    "import pandas as pd\n",
    "from sqlalchemy.engine import create_engine\n"
   ]
  },
  {
   "cell_type": "code",
   "execution_count": null,
   "id": "5208d552-5353-43ed-abfc-83678f55d5b0",
   "metadata": {},
   "outputs": [],
   "source": [
    "\n",
    "engine = create_engine('hive://spark-thrift:10000/default')\n",
    "pd.read_sql_query(\"create database if not exists sample\",con=engine)\n",
    "pd.read_sql_query(\"show databases\",con=engine)\n"
   ]
  },
  {
   "cell_type": "code",
   "execution_count": null,
   "id": "95e9bfe7-b610-42a7-a76a-d7511497432d",
   "metadata": {},
   "outputs": [],
   "source": [
    "pd.read_sql_query(\"use sample\", con=engine)\n",
    "pd.read_sql_query(\"create table if not exists tbl1 (ckey int, cval varchar(64))\", con=engine)\n",
    "pd.read_sql_query(\"show tables\", con=engine)\n"
   ]
  },
  {
   "cell_type": "code",
   "execution_count": null,
   "id": "c5f7a235-79c3-4b02-8549-0f4a767777a5",
   "metadata": {},
   "outputs": [],
   "source": [
    "pd.read_sql_query(\"insert into sample.tbl1 values (1, 'a');\", con=engine)\n",
    "pd.read_sql_query(\"select * from sample.tbl1;\", con=engine)"
   ]
  },
  {
   "cell_type": "code",
   "execution_count": null,
   "id": "56ea3b98-c2fb-4caa-8330-eed3a9d5f111",
   "metadata": {},
   "outputs": [],
   "source": [
    "\n",
    "pd.read_sql_query(\"show tables\", con=engine)"
   ]
  },
  {
   "cell_type": "code",
   "execution_count": null,
   "id": "8527cfa1-cb0f-4a9d-bd34-d371c798dccf",
   "metadata": {},
   "outputs": [],
   "source": [
    "pd.read_sql_query(\"\"\"\n",
    "    create table sample.hudi_tbl (\n",
    "      id int,\n",
    "      name string,\n",
    "      price double,\n",
    "      ts bigint\n",
    "    ) using hudi\n",
    "    tblproperties (\n",
    "      type = 'cow',\n",
    "      primaryKey = 'id'\n",
    "    )\n",
    "\"\"\", con=engine)"
   ]
  },
  {
   "cell_type": "code",
   "execution_count": null,
   "id": "ee7e7d1a-1aca-4014-9d8f-582839a73ac5",
   "metadata": {},
   "outputs": [],
   "source": [
    "pd.read_sql_query(\"show tables\", con=engine)"
   ]
  },
  {
   "cell_type": "code",
   "execution_count": null,
   "id": "463beb02-6ab4-4e2d-a059-5f83a6ead341",
   "metadata": {},
   "outputs": [],
   "source": []
  }
 ],
 "metadata": {
  "kernelspec": {
   "display_name": "Python 3 (ipykernel)",
   "language": "python",
   "name": "python3"
  },
  "language_info": {
   "codemirror_mode": {
    "name": "ipython",
    "version": 3
   },
   "file_extension": ".py",
   "mimetype": "text/x-python",
   "name": "python",
   "nbconvert_exporter": "python",
   "pygments_lexer": "ipython3",
   "version": "3.10.4"
  }
 },
 "nbformat": 4,
 "nbformat_minor": 5
}
