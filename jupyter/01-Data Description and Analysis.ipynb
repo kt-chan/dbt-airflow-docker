{
 "cells": [
  {
   "cell_type": "markdown",
   "metadata": {},
   "source": [
    "## Data Description and Analysis"
   ]
  },
  {
   "cell_type": "code",
   "execution_count": 1,
   "metadata": {},
   "outputs": [
    {
     "name": "stdout",
     "output_type": "stream",
     "text": [
      "Requirement already satisfied: sqlalchemy in /opt/conda/lib/python3.10/site-packages (1.4.37)\n",
      "Requirement already satisfied: greenlet!=0.4.17 in /opt/conda/lib/python3.10/site-packages (from sqlalchemy) (1.1.2)\n",
      "Requirement already satisfied: pyhive in /opt/conda/lib/python3.10/site-packages (0.6.5)\n",
      "Requirement already satisfied: python-dateutil in /opt/conda/lib/python3.10/site-packages (from pyhive) (2.8.2)\n",
      "Requirement already satisfied: future in /opt/conda/lib/python3.10/site-packages (from pyhive) (0.18.2)\n",
      "Requirement already satisfied: six>=1.5 in /opt/conda/lib/python3.10/site-packages (from python-dateutil->pyhive) (1.16.0)\n",
      "Requirement already satisfied: thrift in /opt/conda/lib/python3.10/site-packages (0.16.0)\n",
      "Requirement already satisfied: six>=1.7.2 in /opt/conda/lib/python3.10/site-packages (from thrift) (1.16.0)\n",
      "Requirement already satisfied: sasl in /opt/conda/lib/python3.10/site-packages (0.3.1)\n",
      "Requirement already satisfied: six in /opt/conda/lib/python3.10/site-packages (from sasl) (1.16.0)\n",
      "Requirement already satisfied: thrift-sasl in /opt/conda/lib/python3.10/site-packages (0.4.3)\n",
      "Requirement already satisfied: six>=1.13.0 in /opt/conda/lib/python3.10/site-packages (from thrift-sasl) (1.16.0)\n",
      "Requirement already satisfied: thrift>=0.10.0 in /opt/conda/lib/python3.10/site-packages (from thrift-sasl) (0.16.0)\n",
      "Requirement already satisfied: pure-sasl>=0.6.2 in /opt/conda/lib/python3.10/site-packages (from thrift-sasl) (0.6.2)\n",
      "Collecting psycopg2-binary\n",
      "  Downloading psycopg2_binary-2.9.3-cp310-cp310-manylinux_2_17_x86_64.manylinux2014_x86_64.whl (3.0 MB)\n",
      "\u001b[2K     \u001b[90m━━━━━━━━━━━━━━━━━━━━━━━━━━━━━━━━━━━━━━━━\u001b[0m \u001b[32m3.0/3.0 MB\u001b[0m \u001b[31m60.8 MB/s\u001b[0m eta \u001b[36m0:00:00\u001b[0m:00:01\u001b[0m\n",
      "\u001b[?25hInstalling collected packages: psycopg2-binary\n",
      "Successfully installed psycopg2-binary-2.9.3\n",
      "Requirement already satisfied: pandas in /opt/conda/lib/python3.10/site-packages (1.4.2)\n",
      "Collecting plotnine\n",
      "  Downloading plotnine-0.8.0-py3-none-any.whl (4.7 MB)\n",
      "\u001b[2K     \u001b[90m━━━━━━━━━━━━━━━━━━━━━━━━━━━━━━━━━━━━━━━━\u001b[0m \u001b[32m4.7/4.7 MB\u001b[0m \u001b[31m63.1 MB/s\u001b[0m eta \u001b[36m0:00:00\u001b[0m:00:01\u001b[0m00:01\u001b[0m\n",
      "\u001b[?25hRequirement already satisfied: python-dateutil>=2.8.1 in /opt/conda/lib/python3.10/site-packages (from pandas) (2.8.2)\n",
      "Requirement already satisfied: pytz>=2020.1 in /opt/conda/lib/python3.10/site-packages (from pandas) (2022.1)\n",
      "Requirement already satisfied: numpy>=1.21.0 in /opt/conda/lib/python3.10/site-packages (from pandas) (1.21.6)\n",
      "Requirement already satisfied: scipy>=1.5.0 in /opt/conda/lib/python3.10/site-packages (from plotnine) (1.8.1)\n",
      "Collecting mizani>=0.7.3\n",
      "  Downloading mizani-0.7.4-py3-none-any.whl (63 kB)\n",
      "\u001b[2K     \u001b[90m━━━━━━━━━━━━━━━━━━━━━━━━━━━━━━━━━━━━━━━━\u001b[0m \u001b[32m63.7/63.7 kB\u001b[0m \u001b[31m8.7 MB/s\u001b[0m eta \u001b[36m0:00:00\u001b[0m\n",
      "\u001b[?25hCollecting descartes>=1.1.0\n",
      "  Downloading descartes-1.1.0-py3-none-any.whl (5.8 kB)\n",
      "Requirement already satisfied: matplotlib>=3.1.1 in /opt/conda/lib/python3.10/site-packages (from plotnine) (3.5.2)\n",
      "Requirement already satisfied: statsmodels>=0.12.1 in /opt/conda/lib/python3.10/site-packages (from plotnine) (0.13.2)\n",
      "Requirement already satisfied: patsy>=0.5.1 in /opt/conda/lib/python3.10/site-packages (from plotnine) (0.5.2)\n",
      "Requirement already satisfied: cycler>=0.10 in /opt/conda/lib/python3.10/site-packages (from matplotlib>=3.1.1->plotnine) (0.11.0)\n",
      "Requirement already satisfied: pillow>=6.2.0 in /opt/conda/lib/python3.10/site-packages (from matplotlib>=3.1.1->plotnine) (9.1.1)\n",
      "Requirement already satisfied: kiwisolver>=1.0.1 in /opt/conda/lib/python3.10/site-packages (from matplotlib>=3.1.1->plotnine) (1.4.2)\n",
      "Requirement already satisfied: packaging>=20.0 in /opt/conda/lib/python3.10/site-packages (from matplotlib>=3.1.1->plotnine) (21.3)\n",
      "Requirement already satisfied: fonttools>=4.22.0 in /opt/conda/lib/python3.10/site-packages (from matplotlib>=3.1.1->plotnine) (4.33.3)\n",
      "Requirement already satisfied: pyparsing>=2.2.1 in /opt/conda/lib/python3.10/site-packages (from matplotlib>=3.1.1->plotnine) (3.0.9)\n",
      "Collecting palettable\n",
      "  Downloading palettable-3.3.0-py2.py3-none-any.whl (111 kB)\n",
      "\u001b[2K     \u001b[90m━━━━━━━━━━━━━━━━━━━━━━━━━━━━━━━━━━━━━━\u001b[0m \u001b[32m111.8/111.8 kB\u001b[0m \u001b[31m12.9 MB/s\u001b[0m eta \u001b[36m0:00:00\u001b[0m\n",
      "\u001b[?25hRequirement already satisfied: six in /opt/conda/lib/python3.10/site-packages (from patsy>=0.5.1->plotnine) (1.16.0)\n",
      "Installing collected packages: palettable, mizani, descartes, plotnine\n",
      "Successfully installed descartes-1.1.0 mizani-0.7.4 palettable-3.3.0 plotnine-0.8.0\n"
     ]
    }
   ],
   "source": [
    "!pip install sqlalchemy\n",
    "!pip install pyhive\n",
    "!pip install thrift\n",
    "!pip install sasl\n",
    "!pip install thrift-sasl \n",
    "!pip install psycopg2-binary\n",
    "!pip install pandas plotnine\n",
    "\n",
    "import sqlalchemy\n",
    "import numpy as np\n",
    "import pandas as pd\n",
    "pd.set_option('display.max_columns', 10)\n",
    "pd.set_option('display.max_rows', 500)\n",
    "\n",
    "import gc\n",
    "import os\n",
    "\n",
    "# matplotlib and seaborn for plotting\n",
    "import matplotlib\n",
    "matplotlib.rcParams['figure.dpi'] = 120 #resolution\n",
    "matplotlib.rcParams['figure.figsize'] = (8,6) #figure size\n",
    "\n",
    "import matplotlib.pyplot as plt\n",
    "import seaborn as sns\n",
    "sns.set_style('darkgrid')\n",
    "color = sns.color_palette()\n"
   ]
  },
  {
   "cell_type": "markdown",
   "metadata": {},
   "source": [
    "The dataset contains relational set of files describing customers' orders over time. For each user, 4 to 100 orders are provided with the sequence of products purchased in each order. The data of the order's week and hour of the day as well as a relative measure of time between orders is provided.\n",
    "\n",
    "**Files in the Dataset:** "
   ]
  },
  {
   "cell_type": "code",
   "execution_count": 2,
   "metadata": {},
   "outputs": [
    {
     "data": {
      "text/html": [
       "<div>\n",
       "<style scoped>\n",
       "    .dataframe tbody tr th:only-of-type {\n",
       "        vertical-align: middle;\n",
       "    }\n",
       "\n",
       "    .dataframe tbody tr th {\n",
       "        vertical-align: top;\n",
       "    }\n",
       "\n",
       "    .dataframe thead th {\n",
       "        text-align: right;\n",
       "    }\n",
       "</style>\n",
       "<table border=\"1\" class=\"dataframe\">\n",
       "  <thead>\n",
       "    <tr style=\"text-align: right;\">\n",
       "      <th></th>\n",
       "      <th>namespace</th>\n",
       "      <th>tableName</th>\n",
       "      <th>isTemporary</th>\n",
       "    </tr>\n",
       "  </thead>\n",
       "  <tbody>\n",
       "    <tr>\n",
       "      <th>0</th>\n",
       "      <td>sample</td>\n",
       "      <td>aisles</td>\n",
       "      <td>False</td>\n",
       "    </tr>\n",
       "    <tr>\n",
       "      <th>1</th>\n",
       "      <td>sample</td>\n",
       "      <td>avg_product_count_by_dow</td>\n",
       "      <td>False</td>\n",
       "    </tr>\n",
       "    <tr>\n",
       "      <th>2</th>\n",
       "      <td>sample</td>\n",
       "      <td>clean_orders</td>\n",
       "      <td>False</td>\n",
       "    </tr>\n",
       "    <tr>\n",
       "      <th>3</th>\n",
       "      <td>sample</td>\n",
       "      <td>daily_orders</td>\n",
       "      <td>False</td>\n",
       "    </tr>\n",
       "    <tr>\n",
       "      <th>4</th>\n",
       "      <td>sample</td>\n",
       "      <td>daily_orders_7_day_avg</td>\n",
       "      <td>False</td>\n",
       "    </tr>\n",
       "    <tr>\n",
       "      <th>5</th>\n",
       "      <td>sample</td>\n",
       "      <td>departments</td>\n",
       "      <td>False</td>\n",
       "    </tr>\n",
       "    <tr>\n",
       "      <th>6</th>\n",
       "      <td>sample</td>\n",
       "      <td>order_products</td>\n",
       "      <td>False</td>\n",
       "    </tr>\n",
       "    <tr>\n",
       "      <th>7</th>\n",
       "      <td>sample</td>\n",
       "      <td>order_products__prior</td>\n",
       "      <td>False</td>\n",
       "    </tr>\n",
       "    <tr>\n",
       "      <th>8</th>\n",
       "      <td>sample</td>\n",
       "      <td>order_products__train</td>\n",
       "      <td>False</td>\n",
       "    </tr>\n",
       "    <tr>\n",
       "      <th>9</th>\n",
       "      <td>sample</td>\n",
       "      <td>order_products_union</td>\n",
       "      <td>False</td>\n",
       "    </tr>\n",
       "    <tr>\n",
       "      <th>10</th>\n",
       "      <td>sample</td>\n",
       "      <td>orders</td>\n",
       "      <td>False</td>\n",
       "    </tr>\n",
       "    <tr>\n",
       "      <th>11</th>\n",
       "      <td>sample</td>\n",
       "      <td>product_count</td>\n",
       "      <td>False</td>\n",
       "    </tr>\n",
       "    <tr>\n",
       "      <th>12</th>\n",
       "      <td>sample</td>\n",
       "      <td>products</td>\n",
       "      <td>False</td>\n",
       "    </tr>\n",
       "    <tr>\n",
       "      <th>13</th>\n",
       "      <td>sample</td>\n",
       "      <td>stg_top_selling_products</td>\n",
       "      <td>False</td>\n",
       "    </tr>\n",
       "    <tr>\n",
       "      <th>14</th>\n",
       "      <td>sample</td>\n",
       "      <td>top_selling_aisles</td>\n",
       "      <td>False</td>\n",
       "    </tr>\n",
       "    <tr>\n",
       "      <th>15</th>\n",
       "      <td>sample</td>\n",
       "      <td>top_selling_departments</td>\n",
       "      <td>False</td>\n",
       "    </tr>\n",
       "    <tr>\n",
       "      <th>16</th>\n",
       "      <td>sample</td>\n",
       "      <td>top_selling_products</td>\n",
       "      <td>False</td>\n",
       "    </tr>\n",
       "  </tbody>\n",
       "</table>\n",
       "</div>"
      ],
      "text/plain": [
       "   namespace                 tableName  isTemporary\n",
       "0     sample                    aisles        False\n",
       "1     sample  avg_product_count_by_dow        False\n",
       "2     sample              clean_orders        False\n",
       "3     sample              daily_orders        False\n",
       "4     sample    daily_orders_7_day_avg        False\n",
       "5     sample               departments        False\n",
       "6     sample            order_products        False\n",
       "7     sample     order_products__prior        False\n",
       "8     sample     order_products__train        False\n",
       "9     sample      order_products_union        False\n",
       "10    sample                    orders        False\n",
       "11    sample             product_count        False\n",
       "12    sample                  products        False\n",
       "13    sample  stg_top_selling_products        False\n",
       "14    sample        top_selling_aisles        False\n",
       "15    sample   top_selling_departments        False\n",
       "16    sample      top_selling_products        False"
      ]
     },
     "execution_count": 2,
     "metadata": {},
     "output_type": "execute_result"
    }
   ],
   "source": [
    "\n",
    "sparkConn = sqlalchemy.create_engine('hive://spark-thrift:10000/default')\n",
    "pd.read_sql_query(\"use sample\", con=sparkConn)\n",
    "pd.read_sql_query(\"show tables\", con=sparkConn)"
   ]
  },
  {
   "cell_type": "code",
   "execution_count": null,
   "metadata": {},
   "outputs": [],
   "source": [
    "\n",
    "aisles = pd.read_sql_query(\"select * from sample.aisles limit 1000000\", con=sparkConn)\n",
    "departments = pd.read_sql_query(\"select * from sample.departments limit 1000000\", con=sparkConn)\n",
    "orders = pd.read_sql_query(\"select * from sample.orders limit 1000000\", con=sparkConn)\n",
    "products = pd.read_sql_query(\"select * from sample.products limit 1000000\", con=sparkConn)"
   ]
  },
  {
   "cell_type": "code",
   "execution_count": null,
   "metadata": {},
   "outputs": [],
   "source": [
    "\n",
    "order_products_prior = pd.read_sql_query(\"select * from sample.order_products__prior limit 1000000\", con=sparkConn)\n",
    "order_products_train = pd.read_sql_query(\"select * from sample.order_products__train limit 1000000\", con=sparkConn)\n"
   ]
  },
  {
   "cell_type": "markdown",
   "metadata": {},
   "source": [
    "### aisles: \n",
    "This file contains different aisles and there are total 134 unique aisles."
   ]
  },
  {
   "cell_type": "code",
   "execution_count": null,
   "metadata": {},
   "outputs": [],
   "source": [
    "aisles.head()"
   ]
  },
  {
   "cell_type": "code",
   "execution_count": null,
   "metadata": {},
   "outputs": [],
   "source": [
    "aisles.tail()"
   ]
  },
  {
   "cell_type": "code",
   "execution_count": null,
   "metadata": {},
   "outputs": [],
   "source": [
    "len(aisles.aisle.unique())"
   ]
  },
  {
   "cell_type": "code",
   "execution_count": null,
   "metadata": {},
   "outputs": [],
   "source": [
    "aisles.aisle.unique()"
   ]
  },
  {
   "cell_type": "markdown",
   "metadata": {},
   "source": [
    "### departments: \n",
    "This file contains different departments and there are total 21 unique departments."
   ]
  },
  {
   "cell_type": "code",
   "execution_count": null,
   "metadata": {},
   "outputs": [],
   "source": [
    "departments.head()"
   ]
  },
  {
   "cell_type": "code",
   "execution_count": null,
   "metadata": {},
   "outputs": [],
   "source": [
    "departments.tail()"
   ]
  },
  {
   "cell_type": "code",
   "execution_count": null,
   "metadata": {},
   "outputs": [],
   "source": [
    "len(departments.department.unique())"
   ]
  },
  {
   "cell_type": "code",
   "execution_count": null,
   "metadata": {},
   "outputs": [],
   "source": [
    "departments.department.unique()"
   ]
  },
  {
   "cell_type": "markdown",
   "metadata": {},
   "source": [
    "### orders: \n",
    "This file contains all the orders made by different users. From below analysis, we can conclude following:\n",
    "\n",
    "- There are total 3421083 orders made by total 206209 users.\n",
    "- There are three sets of orders: Prior, Train and Test. The distributions of orders in Train and Test sets are similar whereas the distribution of orders in Prior set is different.\n",
    "- The total orders per customer ranges from 0 to 100. \n",
    "- Based on the plot of 'Orders VS Day of Week' we can map 0 and 1 as Saturday and Sunday respectively based on the assumption that most of the people buy groceries on weekends.\n",
    "- Majority of the orders are made during the day time.\n",
    "- Customers order once in a week which is supported by peaks at 7, 14, 21 and 30 in 'Orders VS Days since prior order' graph.\n",
    "- Based on the heatmap between 'Day of Week' and 'Hour of Day,' we can say that Saturday afternoons and Sunday mornings are prime time for orders."
   ]
  },
  {
   "cell_type": "code",
   "execution_count": null,
   "metadata": {},
   "outputs": [],
   "source": [
    "orders.head(12)"
   ]
  },
  {
   "cell_type": "code",
   "execution_count": null,
   "metadata": {},
   "outputs": [],
   "source": [
    "orders.tail()"
   ]
  },
  {
   "cell_type": "code",
   "execution_count": null,
   "metadata": {
    "scrolled": true
   },
   "outputs": [],
   "source": [
    "orders.info()"
   ]
  },
  {
   "cell_type": "code",
   "execution_count": null,
   "metadata": {},
   "outputs": [],
   "source": [
    "len(orders.order_id.unique())"
   ]
  },
  {
   "cell_type": "code",
   "execution_count": null,
   "metadata": {},
   "outputs": [],
   "source": [
    "len(orders.user_id.unique())"
   ]
  },
  {
   "cell_type": "code",
   "execution_count": null,
   "metadata": {},
   "outputs": [],
   "source": [
    "orders.eval_set.value_counts()"
   ]
  },
  {
   "cell_type": "code",
   "execution_count": null,
   "metadata": {},
   "outputs": [],
   "source": [
    "orders.order_number.describe().apply(lambda x: format(x, '.2f'))"
   ]
  },
  {
   "cell_type": "code",
   "execution_count": null,
   "metadata": {},
   "outputs": [],
   "source": [
    "order_number = orders.groupby('user_id')['order_number'].max()\n",
    "order_number = order_number.value_counts()"
   ]
  },
  {
   "cell_type": "code",
   "execution_count": null,
   "metadata": {},
   "outputs": [],
   "source": [
    "fig, ax = plt.subplots(figsize=(15,8))\n",
    "ax = sns.barplot(x = order_number.index, y = order_number.values, color = color[3])\n",
    "ax.set_xlabel('Orders per customer')\n",
    "ax.set_ylabel('Count')\n",
    "ax.xaxis.set_tick_params(rotation=90, labelsize=10)\n",
    "ax.set_title('Frequency of Total Orders by Customers')\n",
    "fig.savefig('./plot/Frequency of Total Orders by Customers.png')"
   ]
  },
  {
   "cell_type": "code",
   "execution_count": null,
   "metadata": {},
   "outputs": [],
   "source": [
    "fig, ax = plt.subplots(figsize = (8,4))\n",
    "ax = sns.kdeplot(orders.order_number[orders.eval_set == 'prior'], label = \"Prior set\", lw = 1)\n",
    "ax = sns.kdeplot(orders.order_number[orders.eval_set == 'train'], label = \"Train set\", lw = 1)\n",
    "ax = sns.kdeplot(orders.order_number[orders.eval_set == 'test'], label = \"Test set\", lw = 1)\n",
    "ax.set_xlabel('Order Number')\n",
    "ax.set_ylabel('Count')\n",
    "ax.tick_params(axis = 'both', labelsize = 10)\n",
    "ax.set_title('Distribution of Orders in Various Sets')\n",
    "fig.savefig('./plot/Distribution of Orders in Various Sets.png')\n",
    "plt.show()"
   ]
  },
  {
   "cell_type": "code",
   "execution_count": null,
   "metadata": {},
   "outputs": [],
   "source": [
    "fig, ax = plt.subplots(figsize = (5,3))\n",
    "ax = sns.countplot(orders.order_dow)\n",
    "ax.set_xlabel('Day of Week', size = 10)\n",
    "ax.set_ylabel('Orders', size = 10)\n",
    "ax.tick_params(axis = 'both', labelsize = 8)\n",
    "ax.set_title('Total Orders per Day of Week')\n",
    "fig.savefig('./plot/Total Orders per Day of Week.png')\n",
    "plt.show()"
   ]
  },
  {
   "cell_type": "code",
   "execution_count": null,
   "metadata": {},
   "outputs": [],
   "source": [
    "temp_df = orders.groupby('order_dow')['user_id'].nunique()\n",
    "\n",
    "fig, ax = plt.subplots(figsize = (5,3))\n",
    "ax = sns.barplot(x = temp_df.index, y = temp_df.values)\n",
    "ax.set_xlabel('Day of Week', size = 10)\n",
    "ax.set_ylabel('Total Unique Users', size = 10)\n",
    "ax.tick_params(axis = 'both', labelsize = 8)\n",
    "ax.set_title('Total Unique Users per Day of Week')\n",
    "fig.savefig('./plot/Total Unique Users per Day of Week.png')\n",
    "plt.show()"
   ]
  },
  {
   "cell_type": "code",
   "execution_count": null,
   "metadata": {},
   "outputs": [],
   "source": [
    "fig, ax = plt.subplots(figsize = (10,5))\n",
    "ax = sns.countplot(orders.order_hour_of_day, color = color[2])\n",
    "ax.set_xlabel('Hour of Day', size = 10 )\n",
    "ax.set_ylabel('Orders', size = 10)\n",
    "ax.tick_params(axis = 'both', labelsize = 8)\n",
    "ax.set_title('Total Orders per Hour of Day')\n",
    "fig.savefig('./plot/Total Orders per Hour of Day.png')\n",
    "plt.show()"
   ]
  },
  {
   "cell_type": "code",
   "execution_count": null,
   "metadata": {},
   "outputs": [],
   "source": [
    "fig, ax = plt.subplots(figsize = (10,5))\n",
    "ax = sns.countplot(orders.days_since_prior_order, color = color[2])\n",
    "ax.set_xlabel('Days since prior order', size = 10)\n",
    "ax.set_ylabel('Orders', size = 10)\n",
    "ax.tick_params(axis = 'both', labelsize = 8)\n",
    "ax.set_title('Orders VS Days since prior order')\n",
    "fig.savefig('./plot/Orders VS Days since prior order.png')\n",
    "plt.show()"
   ]
  },
  {
   "cell_type": "code",
   "execution_count": null,
   "metadata": {},
   "outputs": [],
   "source": [
    "temp_df = orders.groupby([\"order_dow\", \"order_hour_of_day\"])[\"order_number\"].aggregate(\"count\").reset_index()\n",
    "temp_df = temp_df.pivot('order_dow', 'order_hour_of_day', 'order_number')\n",
    "temp_df.head()"
   ]
  },
  {
   "cell_type": "code",
   "execution_count": null,
   "metadata": {},
   "outputs": [],
   "source": [
    "ax = plt.subplots(figsize=(7,3))\n",
    "ax = sns.heatmap(temp_df, cmap=\"YlGnBu\", linewidths=.5)\n",
    "ax.set_title(\"Frequency of Day of week Vs Hour of day\", size = 12)\n",
    "ax.set_xlabel(\"Hour of Day\", size = 10)\n",
    "ax.set_ylabel(\"Day of Week\", size = 10)\n",
    "ax.tick_params(axis = 'both', labelsize = 8)\n",
    "cbar = ax.collections[0].colorbar\n",
    "cbar.ax.tick_params(labelsize=10)\n",
    "fig = ax.get_figure()\n",
    "fig.savefig(\"Frequency of Day of week Vs Hour of day.png\")\n",
    "plt.show()"
   ]
  },
  {
   "cell_type": "markdown",
   "metadata": {},
   "source": [
    "### order_products_prior:\n",
    "\n",
    "This file gives information about which products were ordered and in which order they were added in the cart. It also tells us that if the product was reordered or not. \n",
    "\n",
    "- In this file there is an information of total 3214874 orders through which total 49677 products were ordered. \n",
    "- From the 'Count VS Items in cart' plot, we can say that most of the people buy 1-15 items in an order and there were a maximum of 145 items in an order.\n",
    "- The percentage of reorder items in this set is 58.97%."
   ]
  },
  {
   "cell_type": "code",
   "execution_count": null,
   "metadata": {},
   "outputs": [],
   "source": [
    "order_products_prior.head(10)"
   ]
  },
  {
   "cell_type": "code",
   "execution_count": null,
   "metadata": {},
   "outputs": [],
   "source": [
    "order_products_prior.tail()"
   ]
  },
  {
   "cell_type": "code",
   "execution_count": null,
   "metadata": {},
   "outputs": [],
   "source": [
    "len(order_products_prior.order_id.unique())"
   ]
  },
  {
   "cell_type": "code",
   "execution_count": null,
   "metadata": {},
   "outputs": [],
   "source": [
    "len(order_products_prior.product_id.unique())"
   ]
  },
  {
   "cell_type": "code",
   "execution_count": null,
   "metadata": {},
   "outputs": [],
   "source": [
    "add_to_cart_order_prior = order_products_prior.groupby('order_id')['add_to_cart_order'].count()\n",
    "add_to_cart_order_prior = add_to_cart_order_prior.value_counts()"
   ]
  },
  {
   "cell_type": "code",
   "execution_count": null,
   "metadata": {},
   "outputs": [],
   "source": [
    "add_to_cart_order_prior.head()"
   ]
  },
  {
   "cell_type": "code",
   "execution_count": null,
   "metadata": {},
   "outputs": [],
   "source": [
    "add_to_cart_order_prior.tail()"
   ]
  },
  {
   "cell_type": "code",
   "execution_count": null,
   "metadata": {},
   "outputs": [],
   "source": [
    "add_to_cart_order_prior.index.max()"
   ]
  },
  {
   "cell_type": "code",
   "execution_count": null,
   "metadata": {},
   "outputs": [],
   "source": [
    "fig, ax = plt.subplots(figsize = (15,8))\n",
    "ax = sns.barplot(x = add_to_cart_order_prior.index, y = add_to_cart_order_prior.values, color = color[3])\n",
    "ax.set_xlabel('Items in cart')\n",
    "ax.set_ylabel('Count')\n",
    "ax.xaxis.set_tick_params(rotation=90, labelsize = 9)\n",
    "ax.set_title('Frequency of Items in Cart in Prior set', size = 15)\n",
    "fig.savefig('./plot/Frequency of Items in Cart in Prior set.png')"
   ]
  },
  {
   "cell_type": "code",
   "execution_count": null,
   "metadata": {},
   "outputs": [],
   "source": [
    "fig, ax = plt.subplots(figsize=(3,3))\n",
    "ax = sns.barplot(x = order_products_prior.reordered.value_counts().index, \n",
    "                y = order_products_prior.reordered.value_counts().values, color = color[3])\n",
    "ax.set_xlabel('Reorder', size = 10)\n",
    "ax.set_ylabel('Count', size = 10)\n",
    "ax.tick_params(axis = 'both', labelsize = 8)\n",
    "ax.ticklabel_format(style='plain', axis='y')\n",
    "ax.set_title('Reorder Frequency in Prior Set')\n",
    "fig.savefig('./plot/Reorder Frequency in Prior Set')\n",
    "plt.show()"
   ]
  },
  {
   "cell_type": "code",
   "execution_count": null,
   "metadata": {},
   "outputs": [],
   "source": [
    "print('Percentage of reorder in prior set:',\n",
    "      format(order_products_prior[order_products_prior.reordered == 1].shape[0]*100/order_products_prior.shape[0], '.2f'))"
   ]
  },
  {
   "cell_type": "markdown",
   "metadata": {},
   "source": [
    "### order_products_train:\n",
    "\n",
    "This file gives information about which products were ordered and in which order they were added in the cart. It also tells us that if the product was reordered or not. \n",
    "\n",
    "- In this file there is an information of total 131209 orders through which total 39123 products were ordered. \n",
    "- From the 'Count VS Items in cart' plot, we can say that most of the people buy 1-15 items in an order and there were a maximum of 145 items in an order.\n",
    "- The percentage of reorder items in this set is 59.86%."
   ]
  },
  {
   "cell_type": "code",
   "execution_count": null,
   "metadata": {},
   "outputs": [],
   "source": [
    "order_products_train.head(10)"
   ]
  },
  {
   "cell_type": "code",
   "execution_count": null,
   "metadata": {},
   "outputs": [],
   "source": [
    "order_products_train.tail()"
   ]
  },
  {
   "cell_type": "code",
   "execution_count": null,
   "metadata": {},
   "outputs": [],
   "source": [
    "len(order_products_train.order_id.unique())"
   ]
  },
  {
   "cell_type": "code",
   "execution_count": null,
   "metadata": {},
   "outputs": [],
   "source": [
    "len(order_products_train.product_id.unique())"
   ]
  },
  {
   "cell_type": "code",
   "execution_count": null,
   "metadata": {},
   "outputs": [],
   "source": [
    "add_to_cart_order_train = order_products_prior.groupby('order_id')['add_to_cart_order'].count()\n",
    "add_to_cart_order_train = add_to_cart_order_train.value_counts()"
   ]
  },
  {
   "cell_type": "code",
   "execution_count": null,
   "metadata": {},
   "outputs": [],
   "source": [
    "add_to_cart_order_train.head()"
   ]
  },
  {
   "cell_type": "code",
   "execution_count": null,
   "metadata": {},
   "outputs": [],
   "source": [
    "add_to_cart_order_train.tail()"
   ]
  },
  {
   "cell_type": "code",
   "execution_count": null,
   "metadata": {},
   "outputs": [],
   "source": [
    "add_to_cart_order_train.index.max()"
   ]
  },
  {
   "cell_type": "code",
   "execution_count": null,
   "metadata": {},
   "outputs": [],
   "source": [
    "fig, ax = plt.subplots(figsize = (15,8))\n",
    "ax = sns.barplot(x = add_to_cart_order_train.index, y = add_to_cart_order_train.values, color = color[2])\n",
    "ax.set_xlabel('Items in cart')\n",
    "ax.set_ylabel('Count')\n",
    "ax.xaxis.set_tick_params(rotation=90, labelsize = 8)\n",
    "ax.set_title('Frequency of Items in Cart in Train set', size = 15)\n",
    "fig.savefig('Frequency of Items in Cart in Train set.png')"
   ]
  },
  {
   "cell_type": "code",
   "execution_count": null,
   "metadata": {},
   "outputs": [],
   "source": [
    "fig, ax = plt.subplots(figsize=(3,3))\n",
    "ax = sns.barplot(x = order_products_train.reordered.value_counts().index, \n",
    "                y = order_products_train.reordered.value_counts().values, color = color[2])\n",
    "ax.set_xlabel('Reorder', size = 10)\n",
    "ax.set_ylabel('Count', size = 10)\n",
    "ax.tick_params(axis = 'both', labelsize = 8)\n",
    "ax.set_title('Reorder Frequency in Train Set')\n",
    "fig.savefig('Reorder Frequency in Train Set')\n",
    "plt.show()"
   ]
  },
  {
   "cell_type": "code",
   "execution_count": null,
   "metadata": {},
   "outputs": [],
   "source": [
    "print('Percentage of reorder in train set:',\n",
    "      format(order_products_train[order_products_train.reordered == 1].shape[0]*100/order_products_train.shape[0], '.2f'))"
   ]
  },
  {
   "cell_type": "markdown",
   "metadata": {},
   "source": [
    "### products:\n",
    "\n",
    "This file contains the list of total 49688 products and their aisle as well as department. The number of products in different aisles and different departments are different."
   ]
  },
  {
   "cell_type": "code",
   "execution_count": null,
   "metadata": {},
   "outputs": [],
   "source": [
    "products.head(10)"
   ]
  },
  {
   "cell_type": "code",
   "execution_count": null,
   "metadata": {},
   "outputs": [],
   "source": [
    "products.tail()"
   ]
  },
  {
   "cell_type": "code",
   "execution_count": null,
   "metadata": {},
   "outputs": [],
   "source": [
    "len(products.product_name.unique())"
   ]
  },
  {
   "cell_type": "code",
   "execution_count": null,
   "metadata": {},
   "outputs": [],
   "source": [
    "len(products.aisle_id.unique())"
   ]
  },
  {
   "cell_type": "code",
   "execution_count": null,
   "metadata": {},
   "outputs": [],
   "source": [
    "len(products.department_id.unique())"
   ]
  },
  {
   "cell_type": "code",
   "execution_count": null,
   "metadata": {},
   "outputs": [],
   "source": [
    "temp_df = products.groupby('aisle_id')['product_id'].count()\n",
    "\n",
    "fig, ax = plt.subplots(figsize = (15,6))\n",
    "ax = sns.barplot(x = temp_df.index, y = temp_df.values, color = color[3])\n",
    "ax.set_xlabel('Aisle Id')\n",
    "ax.set_ylabel('Total products in aisle')\n",
    "ax.xaxis.set_tick_params(rotation=90, labelsize = 7)\n",
    "ax.set_title('Total Products in Aisle VS Aisle ID', size = 12)\n",
    "fig.savefig('Total Products in Aisle VS Aisle ID.png')"
   ]
  },
  {
   "cell_type": "code",
   "execution_count": null,
   "metadata": {},
   "outputs": [],
   "source": [
    "temp_df = products.groupby('department_id')['product_id'].count()\n",
    "\n",
    "fig, ax = plt.subplots(figsize = (8,5))\n",
    "ax = sns.barplot(x = temp_df.index, y = temp_df.values, color = color[2])\n",
    "ax.set_xlabel('Department Id')\n",
    "ax.set_ylabel('Total products in department')\n",
    "ax.xaxis.set_tick_params(rotation=90, labelsize = 9)\n",
    "ax.set_title('Total Products in Department VS Department ID', size = 10)\n",
    "fig.savefig('Total Products in Department VS Department ID.png')"
   ]
  },
  {
   "cell_type": "code",
   "execution_count": null,
   "metadata": {},
   "outputs": [],
   "source": [
    "temp_df = products.groupby('department_id')['aisle_id'].nunique()\n",
    "\n",
    "fig, ax = plt.subplots(figsize = (8,5))\n",
    "ax = sns.barplot(x = temp_df.index, y = temp_df.values)\n",
    "ax.set_xlabel('Department Id')\n",
    "ax.set_ylabel('Total Aisles in department')\n",
    "ax.xaxis.set_tick_params(rotation=90, labelsize = 9)\n",
    "ax.set_title('Total Aisles in Department VS Department ID', size = 10)\n",
    "fig.savefig('Total Aisles in Department VS Department ID.png')"
   ]
  },
  {
   "cell_type": "code",
   "execution_count": null,
   "metadata": {},
   "outputs": [],
   "source": []
  }
 ],
 "metadata": {
  "kernelspec": {
   "display_name": "Python 3 (ipykernel)",
   "language": "python",
   "name": "python3"
  },
  "language_info": {
   "codemirror_mode": {
    "name": "ipython",
    "version": 3
   },
   "file_extension": ".py",
   "mimetype": "text/x-python",
   "name": "python",
   "nbconvert_exporter": "python",
   "pygments_lexer": "ipython3",
   "version": "3.10.4"
  }
 },
 "nbformat": 4,
 "nbformat_minor": 4
}
