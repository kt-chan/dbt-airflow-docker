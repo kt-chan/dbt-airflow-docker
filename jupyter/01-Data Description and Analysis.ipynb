{
 "cells": [
  {
   "cell_type": "markdown",
   "metadata": {},
   "source": [
    "## Data Description and Analysis"
   ]
  },
  {
   "cell_type": "code",
   "execution_count": 1,
   "metadata": {},
   "outputs": [
    {
     "name": "stdout",
     "output_type": "stream",
     "text": [
      "Requirement already satisfied: sqlalchemy in /opt/conda/lib/python3.10/site-packages (1.4.37)\n",
      "Requirement already satisfied: greenlet!=0.4.17 in /opt/conda/lib/python3.10/site-packages (from sqlalchemy) (1.1.2)\n",
      "Requirement already satisfied: pyhive in /opt/conda/lib/python3.10/site-packages (0.6.5)\n",
      "Requirement already satisfied: future in /opt/conda/lib/python3.10/site-packages (from pyhive) (0.18.2)\n",
      "Requirement already satisfied: python-dateutil in /opt/conda/lib/python3.10/site-packages (from pyhive) (2.8.2)\n",
      "Requirement already satisfied: six>=1.5 in /opt/conda/lib/python3.10/site-packages (from python-dateutil->pyhive) (1.16.0)\n",
      "Requirement already satisfied: thrift in /opt/conda/lib/python3.10/site-packages (0.16.0)\n",
      "Requirement already satisfied: six>=1.7.2 in /opt/conda/lib/python3.10/site-packages (from thrift) (1.16.0)\n",
      "Requirement already satisfied: sasl in /opt/conda/lib/python3.10/site-packages (0.3.1)\n",
      "Requirement already satisfied: six in /opt/conda/lib/python3.10/site-packages (from sasl) (1.16.0)\n",
      "Requirement already satisfied: thrift-sasl in /opt/conda/lib/python3.10/site-packages (0.4.3)\n",
      "Requirement already satisfied: six>=1.13.0 in /opt/conda/lib/python3.10/site-packages (from thrift-sasl) (1.16.0)\n",
      "Requirement already satisfied: thrift>=0.10.0 in /opt/conda/lib/python3.10/site-packages (from thrift-sasl) (0.16.0)\n",
      "Requirement already satisfied: pure-sasl>=0.6.2 in /opt/conda/lib/python3.10/site-packages (from thrift-sasl) (0.6.2)\n",
      "Requirement already satisfied: psycopg2-binary in /opt/conda/lib/python3.10/site-packages (2.9.3)\n",
      "Requirement already satisfied: pandas in /opt/conda/lib/python3.10/site-packages (1.4.2)\n",
      "Requirement already satisfied: plotnine in /opt/conda/lib/python3.10/site-packages (0.8.0)\n",
      "Requirement already satisfied: python-dateutil>=2.8.1 in /opt/conda/lib/python3.10/site-packages (from pandas) (2.8.2)\n",
      "Requirement already satisfied: pytz>=2020.1 in /opt/conda/lib/python3.10/site-packages (from pandas) (2022.1)\n",
      "Requirement already satisfied: numpy>=1.21.0 in /opt/conda/lib/python3.10/site-packages (from pandas) (1.21.6)\n",
      "Requirement already satisfied: matplotlib>=3.1.1 in /opt/conda/lib/python3.10/site-packages (from plotnine) (3.5.2)\n",
      "Requirement already satisfied: mizani>=0.7.3 in /opt/conda/lib/python3.10/site-packages (from plotnine) (0.7.4)\n",
      "Requirement already satisfied: descartes>=1.1.0 in /opt/conda/lib/python3.10/site-packages (from plotnine) (1.1.0)\n",
      "Requirement already satisfied: scipy>=1.5.0 in /opt/conda/lib/python3.10/site-packages (from plotnine) (1.8.1)\n",
      "Requirement already satisfied: patsy>=0.5.1 in /opt/conda/lib/python3.10/site-packages (from plotnine) (0.5.2)\n",
      "Requirement already satisfied: statsmodels>=0.12.1 in /opt/conda/lib/python3.10/site-packages (from plotnine) (0.13.2)\n",
      "Requirement already satisfied: kiwisolver>=1.0.1 in /opt/conda/lib/python3.10/site-packages (from matplotlib>=3.1.1->plotnine) (1.4.2)\n",
      "Requirement already satisfied: pyparsing>=2.2.1 in /opt/conda/lib/python3.10/site-packages (from matplotlib>=3.1.1->plotnine) (3.0.9)\n",
      "Requirement already satisfied: pillow>=6.2.0 in /opt/conda/lib/python3.10/site-packages (from matplotlib>=3.1.1->plotnine) (9.1.1)\n",
      "Requirement already satisfied: packaging>=20.0 in /opt/conda/lib/python3.10/site-packages (from matplotlib>=3.1.1->plotnine) (21.3)\n",
      "Requirement already satisfied: fonttools>=4.22.0 in /opt/conda/lib/python3.10/site-packages (from matplotlib>=3.1.1->plotnine) (4.33.3)\n",
      "Requirement already satisfied: cycler>=0.10 in /opt/conda/lib/python3.10/site-packages (from matplotlib>=3.1.1->plotnine) (0.11.0)\n",
      "Requirement already satisfied: palettable in /opt/conda/lib/python3.10/site-packages (from mizani>=0.7.3->plotnine) (3.3.0)\n",
      "Requirement already satisfied: six in /opt/conda/lib/python3.10/site-packages (from patsy>=0.5.1->plotnine) (1.16.0)\n"
     ]
    }
   ],
   "source": [
    "!pip install sqlalchemy\n",
    "!pip install pyhive\n",
    "!pip install thrift\n",
    "!pip install sasl\n",
    "!pip install thrift-sasl \n",
    "!pip install psycopg2-binary\n",
    "!pip install pandas plotnine\n",
    "\n",
    "import sqlalchemy\n",
    "import numpy as np\n",
    "import pandas as pd\n",
    "pd.set_option('display.max_columns', 10)\n",
    "pd.set_option('display.max_rows', 500)\n",
    "\n",
    "import gc\n",
    "import os\n",
    "\n",
    "# matplotlib and seaborn for plotting\n",
    "import matplotlib\n",
    "matplotlib.rcParams['figure.dpi'] = 120 #resolution\n",
    "matplotlib.rcParams['figure.figsize'] = (8,6) #figure size\n",
    "\n",
    "import matplotlib.pyplot as plt\n",
    "import seaborn as sns\n",
    "sns.set_style('darkgrid')\n",
    "color = sns.color_palette()\n"
   ]
  },
  {
   "cell_type": "markdown",
   "metadata": {},
   "source": [
    "The dataset contains relational set of files describing customers' orders over time. For each user, 4 to 100 orders are provided with the sequence of products purchased in each order. The data of the order's week and hour of the day as well as a relative measure of time between orders is provided.\n",
    "\n",
    "**Files in the Dataset:** "
   ]
  },
  {
   "cell_type": "code",
   "execution_count": 2,
   "metadata": {},
   "outputs": [
    {
     "data": {
      "text/html": [
       "<div>\n",
       "<style scoped>\n",
       "    .dataframe tbody tr th:only-of-type {\n",
       "        vertical-align: middle;\n",
       "    }\n",
       "\n",
       "    .dataframe tbody tr th {\n",
       "        vertical-align: top;\n",
       "    }\n",
       "\n",
       "    .dataframe thead th {\n",
       "        text-align: right;\n",
       "    }\n",
       "</style>\n",
       "<table border=\"1\" class=\"dataframe\">\n",
       "  <thead>\n",
       "    <tr style=\"text-align: right;\">\n",
       "      <th></th>\n",
       "      <th>database</th>\n",
       "      <th>tableName</th>\n",
       "      <th>isTemporary</th>\n",
       "    </tr>\n",
       "  </thead>\n",
       "  <tbody>\n",
       "    <tr>\n",
       "      <th>0</th>\n",
       "      <td>sample</td>\n",
       "      <td>avg_product_count_by_dow</td>\n",
       "      <td>False</td>\n",
       "    </tr>\n",
       "    <tr>\n",
       "      <th>1</th>\n",
       "      <td>sample</td>\n",
       "      <td>clean_orders</td>\n",
       "      <td>False</td>\n",
       "    </tr>\n",
       "    <tr>\n",
       "      <th>2</th>\n",
       "      <td>sample</td>\n",
       "      <td>daily_orders</td>\n",
       "      <td>False</td>\n",
       "    </tr>\n",
       "    <tr>\n",
       "      <th>3</th>\n",
       "      <td>sample</td>\n",
       "      <td>daily_orders_7_day_avg</td>\n",
       "      <td>False</td>\n",
       "    </tr>\n",
       "    <tr>\n",
       "      <th>4</th>\n",
       "      <td>sample</td>\n",
       "      <td>order_products</td>\n",
       "      <td>False</td>\n",
       "    </tr>\n",
       "    <tr>\n",
       "      <th>5</th>\n",
       "      <td>sample</td>\n",
       "      <td>order_products_union</td>\n",
       "      <td>False</td>\n",
       "    </tr>\n",
       "    <tr>\n",
       "      <th>6</th>\n",
       "      <td>sample</td>\n",
       "      <td>product_count</td>\n",
       "      <td>False</td>\n",
       "    </tr>\n",
       "    <tr>\n",
       "      <th>7</th>\n",
       "      <td>sample</td>\n",
       "      <td>stg_top_selling_products</td>\n",
       "      <td>False</td>\n",
       "    </tr>\n",
       "    <tr>\n",
       "      <th>8</th>\n",
       "      <td>sample</td>\n",
       "      <td>top_selling_aisles</td>\n",
       "      <td>False</td>\n",
       "    </tr>\n",
       "    <tr>\n",
       "      <th>9</th>\n",
       "      <td>sample</td>\n",
       "      <td>top_selling_departments</td>\n",
       "      <td>False</td>\n",
       "    </tr>\n",
       "    <tr>\n",
       "      <th>10</th>\n",
       "      <td>sample</td>\n",
       "      <td>top_selling_products</td>\n",
       "      <td>False</td>\n",
       "    </tr>\n",
       "  </tbody>\n",
       "</table>\n",
       "</div>"
      ],
      "text/plain": [
       "   database                 tableName  isTemporary\n",
       "0    sample  avg_product_count_by_dow        False\n",
       "1    sample              clean_orders        False\n",
       "2    sample              daily_orders        False\n",
       "3    sample    daily_orders_7_day_avg        False\n",
       "4    sample            order_products        False\n",
       "5    sample      order_products_union        False\n",
       "6    sample             product_count        False\n",
       "7    sample  stg_top_selling_products        False\n",
       "8    sample        top_selling_aisles        False\n",
       "9    sample   top_selling_departments        False\n",
       "10   sample      top_selling_products        False"
      ]
     },
     "execution_count": 2,
     "metadata": {},
     "output_type": "execute_result"
    }
   ],
   "source": [
    "\n",
    "sparkConn = sqlalchemy.create_engine('hive://spark-thrift:10000/default')\n",
    "pd.read_sql_query(\"use sample\", con=sparkConn)\n",
    "pd.read_sql_query(\"show tables\", con=sparkConn)"
   ]
  },
  {
   "cell_type": "code",
   "execution_count": 3,
   "metadata": {},
   "outputs": [],
   "source": [
    "\n",
    "aisles = pd.read_sql_query(\"select * from source.aisles limit 1000000\", con=sparkConn)\n",
    "departments = pd.read_sql_query(\"select * from source.departments limit 1000000\", con=sparkConn)\n",
    "orders = pd.read_sql_query(\"select * from source.orders limit 1000000\", con=sparkConn)\n",
    "products = pd.read_sql_query(\"select * from source.products limit 1000000\", con=sparkConn)"
   ]
  },
  {
   "cell_type": "code",
   "execution_count": 4,
   "metadata": {},
   "outputs": [],
   "source": [
    "\n",
    "order_products_prior = pd.read_sql_query(\"select * from source.order_products__prior limit 1000000\", con=sparkConn)\n",
    "order_products_train = pd.read_sql_query(\"select * from source.order_products__train limit 1000000\", con=sparkConn)\n"
   ]
  },
  {
   "cell_type": "markdown",
   "metadata": {},
   "source": [
    "### aisles: \n",
    "This file contains different aisles and there are total 134 unique aisles."
   ]
  },
  {
   "cell_type": "code",
   "execution_count": 5,
   "metadata": {},
   "outputs": [
    {
     "data": {
      "text/html": [
       "<div>\n",
       "<style scoped>\n",
       "    .dataframe tbody tr th:only-of-type {\n",
       "        vertical-align: middle;\n",
       "    }\n",
       "\n",
       "    .dataframe tbody tr th {\n",
       "        vertical-align: top;\n",
       "    }\n",
       "\n",
       "    .dataframe thead th {\n",
       "        text-align: right;\n",
       "    }\n",
       "</style>\n",
       "<table border=\"1\" class=\"dataframe\">\n",
       "  <thead>\n",
       "    <tr style=\"text-align: right;\">\n",
       "      <th></th>\n",
       "      <th>aisle_id</th>\n",
       "      <th>aisle</th>\n",
       "    </tr>\n",
       "  </thead>\n",
       "  <tbody>\n",
       "    <tr>\n",
       "      <th>0</th>\n",
       "      <td>NaN</td>\n",
       "      <td>aisle</td>\n",
       "    </tr>\n",
       "    <tr>\n",
       "      <th>1</th>\n",
       "      <td>1.0</td>\n",
       "      <td>prepared soups salads</td>\n",
       "    </tr>\n",
       "    <tr>\n",
       "      <th>2</th>\n",
       "      <td>2.0</td>\n",
       "      <td>specialty cheeses</td>\n",
       "    </tr>\n",
       "    <tr>\n",
       "      <th>3</th>\n",
       "      <td>3.0</td>\n",
       "      <td>energy granola bars</td>\n",
       "    </tr>\n",
       "    <tr>\n",
       "      <th>4</th>\n",
       "      <td>4.0</td>\n",
       "      <td>instant foods</td>\n",
       "    </tr>\n",
       "  </tbody>\n",
       "</table>\n",
       "</div>"
      ],
      "text/plain": [
       "   aisle_id                  aisle\n",
       "0       NaN                  aisle\n",
       "1       1.0  prepared soups salads\n",
       "2       2.0      specialty cheeses\n",
       "3       3.0    energy granola bars\n",
       "4       4.0          instant foods"
      ]
     },
     "execution_count": 5,
     "metadata": {},
     "output_type": "execute_result"
    }
   ],
   "source": [
    "aisles.head()"
   ]
  },
  {
   "cell_type": "code",
   "execution_count": 6,
   "metadata": {},
   "outputs": [
    {
     "data": {
      "text/html": [
       "<div>\n",
       "<style scoped>\n",
       "    .dataframe tbody tr th:only-of-type {\n",
       "        vertical-align: middle;\n",
       "    }\n",
       "\n",
       "    .dataframe tbody tr th {\n",
       "        vertical-align: top;\n",
       "    }\n",
       "\n",
       "    .dataframe thead th {\n",
       "        text-align: right;\n",
       "    }\n",
       "</style>\n",
       "<table border=\"1\" class=\"dataframe\">\n",
       "  <thead>\n",
       "    <tr style=\"text-align: right;\">\n",
       "      <th></th>\n",
       "      <th>aisle_id</th>\n",
       "      <th>aisle</th>\n",
       "    </tr>\n",
       "  </thead>\n",
       "  <tbody>\n",
       "    <tr>\n",
       "      <th>130</th>\n",
       "      <td>130.0</td>\n",
       "      <td>hot cereal pancake mixes</td>\n",
       "    </tr>\n",
       "    <tr>\n",
       "      <th>131</th>\n",
       "      <td>131.0</td>\n",
       "      <td>dry pasta</td>\n",
       "    </tr>\n",
       "    <tr>\n",
       "      <th>132</th>\n",
       "      <td>132.0</td>\n",
       "      <td>beauty</td>\n",
       "    </tr>\n",
       "    <tr>\n",
       "      <th>133</th>\n",
       "      <td>133.0</td>\n",
       "      <td>muscles joints pain relief</td>\n",
       "    </tr>\n",
       "    <tr>\n",
       "      <th>134</th>\n",
       "      <td>134.0</td>\n",
       "      <td>specialty wines champagnes</td>\n",
       "    </tr>\n",
       "  </tbody>\n",
       "</table>\n",
       "</div>"
      ],
      "text/plain": [
       "     aisle_id                       aisle\n",
       "130     130.0    hot cereal pancake mixes\n",
       "131     131.0                   dry pasta\n",
       "132     132.0                      beauty\n",
       "133     133.0  muscles joints pain relief\n",
       "134     134.0  specialty wines champagnes"
      ]
     },
     "execution_count": 6,
     "metadata": {},
     "output_type": "execute_result"
    }
   ],
   "source": [
    "aisles.tail()"
   ]
  },
  {
   "cell_type": "code",
   "execution_count": 7,
   "metadata": {},
   "outputs": [
    {
     "data": {
      "text/plain": [
       "135"
      ]
     },
     "execution_count": 7,
     "metadata": {},
     "output_type": "execute_result"
    }
   ],
   "source": [
    "len(aisles.aisle.unique())"
   ]
  },
  {
   "cell_type": "code",
   "execution_count": 8,
   "metadata": {},
   "outputs": [
    {
     "data": {
      "text/plain": [
       "array(['aisle', 'prepared soups salads', 'specialty cheeses',\n",
       "       'energy granola bars', 'instant foods',\n",
       "       'marinades meat preparation', 'other', 'packaged meat',\n",
       "       'bakery desserts', 'pasta sauce', 'kitchen supplies',\n",
       "       'cold flu allergy', 'fresh pasta', 'prepared meals',\n",
       "       'tofu meat alternatives', 'packaged seafood', 'fresh herbs',\n",
       "       'baking ingredients', 'bulk dried fruits vegetables',\n",
       "       'oils vinegars', 'oral hygiene', 'packaged cheese', 'hair care',\n",
       "       'popcorn jerky', 'fresh fruits', 'soap', 'coffee', 'beers coolers',\n",
       "       'red wines', 'honeys syrups nectars', 'latino foods',\n",
       "       'refrigerated', 'packaged produce', 'kosher foods',\n",
       "       'frozen meat seafood', 'poultry counter', 'butter',\n",
       "       'ice cream ice', 'frozen meals', 'seafood counter',\n",
       "       'dog food care', 'cat food care', 'frozen vegan vegetarian',\n",
       "       'buns rolls', 'eye ear care', 'candy chocolate', 'mint gum',\n",
       "       'vitamins supplements', 'breakfast bars pastries',\n",
       "       'packaged poultry', 'fruit vegetable snacks',\n",
       "       'preserved dips spreads', 'frozen breakfast', 'cream',\n",
       "       'paper goods', 'shave needs', 'diapers wipes', 'granola',\n",
       "       'frozen breads doughs', 'canned meals beans', 'trash bags liners',\n",
       "       'cookies cakes', 'white wines', 'grains rice dried goods',\n",
       "       'energy sports drinks', 'protein meal replacements', 'asian foods',\n",
       "       'fresh dips tapenades', 'bulk grains rice dried goods',\n",
       "       'soup broth bouillon', 'digestion',\n",
       "       'refrigerated pudding desserts', 'condiments', 'facial care',\n",
       "       'dish detergents', 'laundry', 'indian foods', 'soft drinks',\n",
       "       'crackers', 'frozen pizza', 'deodorants',\n",
       "       'canned jarred vegetables', 'baby accessories', 'fresh vegetables',\n",
       "       'milk', 'food storage', 'eggs', 'more household', 'spreads',\n",
       "       'salad dressing toppings', 'cocoa drink mixes', 'soy lactosefree',\n",
       "       'baby food formula', 'breakfast bakery', 'tea',\n",
       "       'canned meat seafood', 'lunch meat', 'baking supplies decor',\n",
       "       'juice nectars', 'canned fruit applesauce', 'missing',\n",
       "       'air fresheners candles', 'baby bath body care',\n",
       "       'ice cream toppings', 'spices seasonings',\n",
       "       'doughs gelatins bake mixes', 'hot dogs bacon sausage',\n",
       "       'chips pretzels', 'other creams cheeses', 'skin care',\n",
       "       'pickled goods olives', 'plates bowls cups flatware', 'bread',\n",
       "       'frozen juice', 'cleaning products',\n",
       "       'water seltzer sparkling water', 'frozen produce',\n",
       "       'nuts seeds dried fruit', 'first aid', 'frozen dessert', 'yogurt',\n",
       "       'cereal', 'meat counter', 'packaged vegetables fruits', 'spirits',\n",
       "       'trail mix snack mix', 'feminine care', 'body lotions soap',\n",
       "       'tortillas flat bread', 'frozen appetizers sides',\n",
       "       'hot cereal pancake mixes', 'dry pasta', 'beauty',\n",
       "       'muscles joints pain relief', 'specialty wines champagnes'],\n",
       "      dtype=object)"
      ]
     },
     "execution_count": 8,
     "metadata": {},
     "output_type": "execute_result"
    }
   ],
   "source": [
    "aisles.aisle.unique()"
   ]
  },
  {
   "cell_type": "markdown",
   "metadata": {},
   "source": [
    "### departments: \n",
    "This file contains different departments and there are total 21 unique departments."
   ]
  },
  {
   "cell_type": "code",
   "execution_count": 9,
   "metadata": {},
   "outputs": [
    {
     "data": {
      "text/html": [
       "<div>\n",
       "<style scoped>\n",
       "    .dataframe tbody tr th:only-of-type {\n",
       "        vertical-align: middle;\n",
       "    }\n",
       "\n",
       "    .dataframe tbody tr th {\n",
       "        vertical-align: top;\n",
       "    }\n",
       "\n",
       "    .dataframe thead th {\n",
       "        text-align: right;\n",
       "    }\n",
       "</style>\n",
       "<table border=\"1\" class=\"dataframe\">\n",
       "  <thead>\n",
       "    <tr style=\"text-align: right;\">\n",
       "      <th></th>\n",
       "      <th>department_id</th>\n",
       "      <th>department</th>\n",
       "    </tr>\n",
       "  </thead>\n",
       "  <tbody>\n",
       "    <tr>\n",
       "      <th>0</th>\n",
       "      <td>NaN</td>\n",
       "      <td>department</td>\n",
       "    </tr>\n",
       "    <tr>\n",
       "      <th>1</th>\n",
       "      <td>1.0</td>\n",
       "      <td>frozen</td>\n",
       "    </tr>\n",
       "    <tr>\n",
       "      <th>2</th>\n",
       "      <td>2.0</td>\n",
       "      <td>other</td>\n",
       "    </tr>\n",
       "    <tr>\n",
       "      <th>3</th>\n",
       "      <td>3.0</td>\n",
       "      <td>bakery</td>\n",
       "    </tr>\n",
       "    <tr>\n",
       "      <th>4</th>\n",
       "      <td>4.0</td>\n",
       "      <td>produce</td>\n",
       "    </tr>\n",
       "  </tbody>\n",
       "</table>\n",
       "</div>"
      ],
      "text/plain": [
       "   department_id  department\n",
       "0            NaN  department\n",
       "1            1.0      frozen\n",
       "2            2.0       other\n",
       "3            3.0      bakery\n",
       "4            4.0     produce"
      ]
     },
     "execution_count": 9,
     "metadata": {},
     "output_type": "execute_result"
    }
   ],
   "source": [
    "departments.head()"
   ]
  },
  {
   "cell_type": "code",
   "execution_count": 10,
   "metadata": {},
   "outputs": [
    {
     "data": {
      "text/html": [
       "<div>\n",
       "<style scoped>\n",
       "    .dataframe tbody tr th:only-of-type {\n",
       "        vertical-align: middle;\n",
       "    }\n",
       "\n",
       "    .dataframe tbody tr th {\n",
       "        vertical-align: top;\n",
       "    }\n",
       "\n",
       "    .dataframe thead th {\n",
       "        text-align: right;\n",
       "    }\n",
       "</style>\n",
       "<table border=\"1\" class=\"dataframe\">\n",
       "  <thead>\n",
       "    <tr style=\"text-align: right;\">\n",
       "      <th></th>\n",
       "      <th>department_id</th>\n",
       "      <th>department</th>\n",
       "    </tr>\n",
       "  </thead>\n",
       "  <tbody>\n",
       "    <tr>\n",
       "      <th>17</th>\n",
       "      <td>17.0</td>\n",
       "      <td>household</td>\n",
       "    </tr>\n",
       "    <tr>\n",
       "      <th>18</th>\n",
       "      <td>18.0</td>\n",
       "      <td>babies</td>\n",
       "    </tr>\n",
       "    <tr>\n",
       "      <th>19</th>\n",
       "      <td>19.0</td>\n",
       "      <td>snacks</td>\n",
       "    </tr>\n",
       "    <tr>\n",
       "      <th>20</th>\n",
       "      <td>20.0</td>\n",
       "      <td>deli</td>\n",
       "    </tr>\n",
       "    <tr>\n",
       "      <th>21</th>\n",
       "      <td>21.0</td>\n",
       "      <td>missing</td>\n",
       "    </tr>\n",
       "  </tbody>\n",
       "</table>\n",
       "</div>"
      ],
      "text/plain": [
       "    department_id department\n",
       "17           17.0  household\n",
       "18           18.0     babies\n",
       "19           19.0     snacks\n",
       "20           20.0       deli\n",
       "21           21.0    missing"
      ]
     },
     "execution_count": 10,
     "metadata": {},
     "output_type": "execute_result"
    }
   ],
   "source": [
    "departments.tail()"
   ]
  },
  {
   "cell_type": "code",
   "execution_count": 11,
   "metadata": {},
   "outputs": [
    {
     "data": {
      "text/plain": [
       "22"
      ]
     },
     "execution_count": 11,
     "metadata": {},
     "output_type": "execute_result"
    }
   ],
   "source": [
    "len(departments.department.unique())"
   ]
  },
  {
   "cell_type": "code",
   "execution_count": 12,
   "metadata": {},
   "outputs": [
    {
     "data": {
      "text/plain": [
       "array(['department', 'frozen', 'other', 'bakery', 'produce', 'alcohol',\n",
       "       'international', 'beverages', 'pets', 'dry goods pasta', 'bulk',\n",
       "       'personal care', 'meat seafood', 'pantry', 'breakfast',\n",
       "       'canned goods', 'dairy eggs', 'household', 'babies', 'snacks',\n",
       "       'deli', 'missing'], dtype=object)"
      ]
     },
     "execution_count": 12,
     "metadata": {},
     "output_type": "execute_result"
    }
   ],
   "source": [
    "departments.department.unique()"
   ]
  },
  {
   "cell_type": "markdown",
   "metadata": {},
   "source": [
    "### orders: \n",
    "This file contains all the orders made by different users. From below analysis, we can conclude following:\n",
    "\n",
    "- There are total 3421083 orders made by total 206209 users.\n",
    "- There are three sets of orders: Prior, Train and Test. The distributions of orders in Train and Test sets are similar whereas the distribution of orders in Prior set is different.\n",
    "- The total orders per customer ranges from 0 to 100. \n",
    "- Based on the plot of 'Orders VS Day of Week' we can map 0 and 1 as Saturday and Sunday respectively based on the assumption that most of the people buy groceries on weekends.\n",
    "- Majority of the orders are made during the day time.\n",
    "- Customers order once in a week which is supported by peaks at 7, 14, 21 and 30 in 'Orders VS Days since prior order' graph.\n",
    "- Based on the heatmap between 'Day of Week' and 'Hour of Day,' we can say that Saturday afternoons and Sunday mornings are prime time for orders."
   ]
  },
  {
   "cell_type": "code",
   "execution_count": 13,
   "metadata": {},
   "outputs": [
    {
     "data": {
      "text/html": [
       "<div>\n",
       "<style scoped>\n",
       "    .dataframe tbody tr th:only-of-type {\n",
       "        vertical-align: middle;\n",
       "    }\n",
       "\n",
       "    .dataframe tbody tr th {\n",
       "        vertical-align: top;\n",
       "    }\n",
       "\n",
       "    .dataframe thead th {\n",
       "        text-align: right;\n",
       "    }\n",
       "</style>\n",
       "<table border=\"1\" class=\"dataframe\">\n",
       "  <thead>\n",
       "    <tr style=\"text-align: right;\">\n",
       "      <th></th>\n",
       "      <th>order_id</th>\n",
       "      <th>user_id</th>\n",
       "      <th>eval_set</th>\n",
       "      <th>order_number</th>\n",
       "      <th>order_dow</th>\n",
       "      <th>order_hour_of_day</th>\n",
       "      <th>days_since_prior_order</th>\n",
       "    </tr>\n",
       "  </thead>\n",
       "  <tbody>\n",
       "    <tr>\n",
       "      <th>0</th>\n",
       "      <td>NaN</td>\n",
       "      <td>NaN</td>\n",
       "      <td>eval_set</td>\n",
       "      <td>NaN</td>\n",
       "      <td>NaN</td>\n",
       "      <td>NaN</td>\n",
       "      <td>NaN</td>\n",
       "    </tr>\n",
       "    <tr>\n",
       "      <th>1</th>\n",
       "      <td>2539329.0</td>\n",
       "      <td>1.0</td>\n",
       "      <td>prior</td>\n",
       "      <td>1.0</td>\n",
       "      <td>2.0</td>\n",
       "      <td>8.0</td>\n",
       "      <td>NaN</td>\n",
       "    </tr>\n",
       "    <tr>\n",
       "      <th>2</th>\n",
       "      <td>2398795.0</td>\n",
       "      <td>1.0</td>\n",
       "      <td>prior</td>\n",
       "      <td>2.0</td>\n",
       "      <td>3.0</td>\n",
       "      <td>7.0</td>\n",
       "      <td>15.0</td>\n",
       "    </tr>\n",
       "    <tr>\n",
       "      <th>3</th>\n",
       "      <td>473747.0</td>\n",
       "      <td>1.0</td>\n",
       "      <td>prior</td>\n",
       "      <td>3.0</td>\n",
       "      <td>3.0</td>\n",
       "      <td>12.0</td>\n",
       "      <td>21.0</td>\n",
       "    </tr>\n",
       "    <tr>\n",
       "      <th>4</th>\n",
       "      <td>2254736.0</td>\n",
       "      <td>1.0</td>\n",
       "      <td>prior</td>\n",
       "      <td>4.0</td>\n",
       "      <td>4.0</td>\n",
       "      <td>7.0</td>\n",
       "      <td>29.0</td>\n",
       "    </tr>\n",
       "    <tr>\n",
       "      <th>5</th>\n",
       "      <td>431534.0</td>\n",
       "      <td>1.0</td>\n",
       "      <td>prior</td>\n",
       "      <td>5.0</td>\n",
       "      <td>4.0</td>\n",
       "      <td>15.0</td>\n",
       "      <td>28.0</td>\n",
       "    </tr>\n",
       "    <tr>\n",
       "      <th>6</th>\n",
       "      <td>3367565.0</td>\n",
       "      <td>1.0</td>\n",
       "      <td>prior</td>\n",
       "      <td>6.0</td>\n",
       "      <td>2.0</td>\n",
       "      <td>7.0</td>\n",
       "      <td>19.0</td>\n",
       "    </tr>\n",
       "    <tr>\n",
       "      <th>7</th>\n",
       "      <td>550135.0</td>\n",
       "      <td>1.0</td>\n",
       "      <td>prior</td>\n",
       "      <td>7.0</td>\n",
       "      <td>1.0</td>\n",
       "      <td>9.0</td>\n",
       "      <td>20.0</td>\n",
       "    </tr>\n",
       "    <tr>\n",
       "      <th>8</th>\n",
       "      <td>3108588.0</td>\n",
       "      <td>1.0</td>\n",
       "      <td>prior</td>\n",
       "      <td>8.0</td>\n",
       "      <td>1.0</td>\n",
       "      <td>14.0</td>\n",
       "      <td>14.0</td>\n",
       "    </tr>\n",
       "    <tr>\n",
       "      <th>9</th>\n",
       "      <td>2295261.0</td>\n",
       "      <td>1.0</td>\n",
       "      <td>prior</td>\n",
       "      <td>9.0</td>\n",
       "      <td>1.0</td>\n",
       "      <td>16.0</td>\n",
       "      <td>0.0</td>\n",
       "    </tr>\n",
       "    <tr>\n",
       "      <th>10</th>\n",
       "      <td>2550362.0</td>\n",
       "      <td>1.0</td>\n",
       "      <td>prior</td>\n",
       "      <td>10.0</td>\n",
       "      <td>4.0</td>\n",
       "      <td>8.0</td>\n",
       "      <td>30.0</td>\n",
       "    </tr>\n",
       "    <tr>\n",
       "      <th>11</th>\n",
       "      <td>1187899.0</td>\n",
       "      <td>1.0</td>\n",
       "      <td>train</td>\n",
       "      <td>11.0</td>\n",
       "      <td>4.0</td>\n",
       "      <td>8.0</td>\n",
       "      <td>14.0</td>\n",
       "    </tr>\n",
       "  </tbody>\n",
       "</table>\n",
       "</div>"
      ],
      "text/plain": [
       "     order_id  user_id  eval_set  order_number  order_dow  order_hour_of_day  \\\n",
       "0         NaN      NaN  eval_set           NaN        NaN                NaN   \n",
       "1   2539329.0      1.0     prior           1.0        2.0                8.0   \n",
       "2   2398795.0      1.0     prior           2.0        3.0                7.0   \n",
       "3    473747.0      1.0     prior           3.0        3.0               12.0   \n",
       "4   2254736.0      1.0     prior           4.0        4.0                7.0   \n",
       "5    431534.0      1.0     prior           5.0        4.0               15.0   \n",
       "6   3367565.0      1.0     prior           6.0        2.0                7.0   \n",
       "7    550135.0      1.0     prior           7.0        1.0                9.0   \n",
       "8   3108588.0      1.0     prior           8.0        1.0               14.0   \n",
       "9   2295261.0      1.0     prior           9.0        1.0               16.0   \n",
       "10  2550362.0      1.0     prior          10.0        4.0                8.0   \n",
       "11  1187899.0      1.0     train          11.0        4.0                8.0   \n",
       "\n",
       "    days_since_prior_order  \n",
       "0                      NaN  \n",
       "1                      NaN  \n",
       "2                     15.0  \n",
       "3                     21.0  \n",
       "4                     29.0  \n",
       "5                     28.0  \n",
       "6                     19.0  \n",
       "7                     20.0  \n",
       "8                     14.0  \n",
       "9                      0.0  \n",
       "10                    30.0  \n",
       "11                    14.0  "
      ]
     },
     "execution_count": 13,
     "metadata": {},
     "output_type": "execute_result"
    }
   ],
   "source": [
    "orders.head(12)"
   ]
  },
  {
   "cell_type": "code",
   "execution_count": 14,
   "metadata": {},
   "outputs": [
    {
     "data": {
      "text/html": [
       "<div>\n",
       "<style scoped>\n",
       "    .dataframe tbody tr th:only-of-type {\n",
       "        vertical-align: middle;\n",
       "    }\n",
       "\n",
       "    .dataframe tbody tr th {\n",
       "        vertical-align: top;\n",
       "    }\n",
       "\n",
       "    .dataframe thead th {\n",
       "        text-align: right;\n",
       "    }\n",
       "</style>\n",
       "<table border=\"1\" class=\"dataframe\">\n",
       "  <thead>\n",
       "    <tr style=\"text-align: right;\">\n",
       "      <th></th>\n",
       "      <th>order_id</th>\n",
       "      <th>user_id</th>\n",
       "      <th>eval_set</th>\n",
       "      <th>order_number</th>\n",
       "      <th>order_dow</th>\n",
       "      <th>order_hour_of_day</th>\n",
       "      <th>days_since_prior_order</th>\n",
       "    </tr>\n",
       "  </thead>\n",
       "  <tbody>\n",
       "    <tr>\n",
       "      <th>999995</th>\n",
       "      <td>2162937.0</td>\n",
       "      <td>60078.0</td>\n",
       "      <td>prior</td>\n",
       "      <td>30.0</td>\n",
       "      <td>5.0</td>\n",
       "      <td>12.0</td>\n",
       "      <td>7.0</td>\n",
       "    </tr>\n",
       "    <tr>\n",
       "      <th>999996</th>\n",
       "      <td>1999510.0</td>\n",
       "      <td>60078.0</td>\n",
       "      <td>prior</td>\n",
       "      <td>31.0</td>\n",
       "      <td>2.0</td>\n",
       "      <td>16.0</td>\n",
       "      <td>11.0</td>\n",
       "    </tr>\n",
       "    <tr>\n",
       "      <th>999997</th>\n",
       "      <td>144910.0</td>\n",
       "      <td>60078.0</td>\n",
       "      <td>prior</td>\n",
       "      <td>32.0</td>\n",
       "      <td>3.0</td>\n",
       "      <td>10.0</td>\n",
       "      <td>8.0</td>\n",
       "    </tr>\n",
       "    <tr>\n",
       "      <th>999998</th>\n",
       "      <td>2885491.0</td>\n",
       "      <td>60078.0</td>\n",
       "      <td>prior</td>\n",
       "      <td>33.0</td>\n",
       "      <td>1.0</td>\n",
       "      <td>14.0</td>\n",
       "      <td>5.0</td>\n",
       "    </tr>\n",
       "    <tr>\n",
       "      <th>999999</th>\n",
       "      <td>1871936.0</td>\n",
       "      <td>60078.0</td>\n",
       "      <td>prior</td>\n",
       "      <td>34.0</td>\n",
       "      <td>4.0</td>\n",
       "      <td>16.0</td>\n",
       "      <td>3.0</td>\n",
       "    </tr>\n",
       "  </tbody>\n",
       "</table>\n",
       "</div>"
      ],
      "text/plain": [
       "         order_id  user_id eval_set  order_number  order_dow  \\\n",
       "999995  2162937.0  60078.0    prior          30.0        5.0   \n",
       "999996  1999510.0  60078.0    prior          31.0        2.0   \n",
       "999997   144910.0  60078.0    prior          32.0        3.0   \n",
       "999998  2885491.0  60078.0    prior          33.0        1.0   \n",
       "999999  1871936.0  60078.0    prior          34.0        4.0   \n",
       "\n",
       "        order_hour_of_day  days_since_prior_order  \n",
       "999995               12.0                     7.0  \n",
       "999996               16.0                    11.0  \n",
       "999997               10.0                     8.0  \n",
       "999998               14.0                     5.0  \n",
       "999999               16.0                     3.0  "
      ]
     },
     "execution_count": 14,
     "metadata": {},
     "output_type": "execute_result"
    }
   ],
   "source": [
    "orders.tail()"
   ]
  },
  {
   "cell_type": "code",
   "execution_count": 15,
   "metadata": {
    "scrolled": true
   },
   "outputs": [
    {
     "name": "stdout",
     "output_type": "stream",
     "text": [
      "<class 'pandas.core.frame.DataFrame'>\n",
      "RangeIndex: 1000000 entries, 0 to 999999\n",
      "Data columns (total 7 columns):\n",
      " #   Column                  Non-Null Count    Dtype  \n",
      "---  ------                  --------------    -----  \n",
      " 0   order_id                999999 non-null   float64\n",
      " 1   user_id                 999999 non-null   float64\n",
      " 2   eval_set                1000000 non-null  object \n",
      " 3   order_number            999999 non-null   float64\n",
      " 4   order_dow               999999 non-null   float64\n",
      " 5   order_hour_of_day       999999 non-null   float64\n",
      " 6   days_since_prior_order  939921 non-null   float64\n",
      "dtypes: float64(6), object(1)\n",
      "memory usage: 53.4+ MB\n"
     ]
    }
   ],
   "source": [
    "orders.info()"
   ]
  },
  {
   "cell_type": "code",
   "execution_count": 16,
   "metadata": {},
   "outputs": [
    {
     "data": {
      "text/plain": [
       "1000000"
      ]
     },
     "execution_count": 16,
     "metadata": {},
     "output_type": "execute_result"
    }
   ],
   "source": [
    "len(orders.order_id.unique())"
   ]
  },
  {
   "cell_type": "code",
   "execution_count": 17,
   "metadata": {},
   "outputs": [
    {
     "data": {
      "text/plain": [
       "60079"
      ]
     },
     "execution_count": 17,
     "metadata": {},
     "output_type": "execute_result"
    }
   ],
   "source": [
    "len(orders.user_id.unique())"
   ]
  },
  {
   "cell_type": "code",
   "execution_count": 18,
   "metadata": {},
   "outputs": [
    {
     "data": {
      "text/plain": [
       "prior       939922\n",
       "train        38174\n",
       "test         21903\n",
       "eval_set         1\n",
       "Name: eval_set, dtype: int64"
      ]
     },
     "execution_count": 18,
     "metadata": {},
     "output_type": "execute_result"
    }
   ],
   "source": [
    "orders.eval_set.value_counts()"
   ]
  },
  {
   "cell_type": "code",
   "execution_count": 19,
   "metadata": {},
   "outputs": [
    {
     "data": {
      "text/plain": [
       "count    999999.00\n",
       "mean         17.19\n",
       "std          17.72\n",
       "min           1.00\n",
       "25%           5.00\n",
       "50%          11.00\n",
       "75%          24.00\n",
       "max         100.00\n",
       "Name: order_number, dtype: object"
      ]
     },
     "execution_count": 19,
     "metadata": {},
     "output_type": "execute_result"
    }
   ],
   "source": [
    "orders.order_number.describe().apply(lambda x: format(x, '.2f'))"
   ]
  },
  {
   "cell_type": "code",
   "execution_count": 20,
   "metadata": {},
   "outputs": [],
   "source": [
    "order_number = orders.groupby('user_id')['order_number'].max()\n",
    "order_number = order_number.value_counts()"
   ]
  },
  {
   "cell_type": "code",
   "execution_count": 21,
   "metadata": {},
   "outputs": [
    {
     "data": {
      "image/png": "[encoded data removed]",
      "text/plain": [
       "<Figure size 1080x576 with 1 Axes>"
      ]
     },
     "metadata": {
      "needs_background": "light"
     },
     "output_type": "display_data"
    }
   ],
   "source": [
    "fig, ax = plt.subplots(figsize=(15,8))\n",
    "ax = sns.barplot(x = order_number.index, y = order_number.values, color = color[3])\n",
    "ax.set_xlabel('Orders per customer')\n",
    "ax.set_ylabel('Count')\n",
    "ax.xaxis.set_tick_params(rotation=90, labelsize=10)\n",
    "ax.set_title('Frequency of Total Orders by Customers')\n",
    "fig.savefig('./plot/Frequency of Total Orders by Customers.png')"
   ]
  },
  {
   "cell_type": "code",
   "execution_count": 22,
   "metadata": {},
   "outputs": [
    {
     "data": {
      "image/png": "[encoded data removed]",
      "text/plain": [
       "<Figure size 576x288 with 1 Axes>"
      ]
     },
     "metadata": {
      "needs_background": "light"
     },
     "output_type": "display_data"
    }
   ],
   "source": [
    "fig, ax = plt.subplots(figsize = (8,4))\n",
    "ax = sns.kdeplot(orders.order_number[orders.eval_set == 'prior'], label = \"Prior set\", lw = 1)\n",
    "ax = sns.kdeplot(orders.order_number[orders.eval_set == 'train'], label = \"Train set\", lw = 1)\n",
    "ax = sns.kdeplot(orders.order_number[orders.eval_set == 'test'], label = \"Test set\", lw = 1)\n",
    "ax.set_xlabel('Order Number')\n",
    "ax.set_ylabel('Count')\n",
    "ax.tick_params(axis = 'both', labelsize = 10)\n",
    "ax.set_title('Distribution of Orders in Various Sets')\n",
    "fig.savefig('./plot/Distribution of Orders in Various Sets.png')\n",
    "plt.show()"
   ]
  },
  {
   "cell_type": "code",
   "execution_count": 23,
   "metadata": {},
   "outputs": [
    {
     "data": {
      "image/png": "[encoded data removed]",
      "text/plain": [
       "<Figure size 360x216 with 1 Axes>"
      ]
     },
     "metadata": {
      "needs_background": "light"
     },
     "output_type": "display_data"
    }
   ],
   "source": [
    "fig, ax = plt.subplots(figsize = (5,3))\n",
    "ax = sns.countplot(x=orders.order_dow)\n",
    "ax.set_xlabel('Day of Week', size = 10)\n",
    "ax.set_ylabel('Orders', size = 10)\n",
    "ax.tick_params(axis = 'both', labelsize = 8)\n",
    "ax.set_title('Total Orders per Day of Week')\n",
    "fig.savefig('./plot/Total Orders per Day of Week.png')\n",
    "plt.show()"
   ]
  },
  {
   "cell_type": "code",
   "execution_count": 24,
   "metadata": {},
   "outputs": [
    {
     "data": {
      "image/png": "[encoded data removed]",
      "text/plain": [
       "<Figure size 360x216 with 1 Axes>"
      ]
     },
     "metadata": {
      "needs_background": "light"
     },
     "output_type": "display_data"
    }
   ],
   "source": [
    "temp_df = orders.groupby('order_dow')['user_id'].nunique()\n",
    "\n",
    "fig, ax = plt.subplots(figsize = (5,3))\n",
    "ax = sns.barplot(x = temp_df.index, y = temp_df.values)\n",
    "ax.set_xlabel('Day of Week', size = 10)\n",
    "ax.set_ylabel('Total Unique Users', size = 10)\n",
    "ax.tick_params(axis = 'both', labelsize = 8)\n",
    "ax.set_title('Total Unique Users per Day of Week')\n",
    "fig.savefig('./plot/Total Unique Users per Day of Week.png')\n",
    "plt.show()"
   ]
  },
  {
   "cell_type": "code",
   "execution_count": 25,
   "metadata": {},
   "outputs": [
    {
     "data": {
      "image/png": "[encoded data removed]",
      "text/plain": [
       "<Figure size 720x360 with 1 Axes>"
      ]
     },
     "metadata": {
      "needs_background": "light"
     },
     "output_type": "display_data"
    }
   ],
   "source": [
    "fig, ax = plt.subplots(figsize = (10,5))\n",
    "ax = sns.countplot(x=orders.order_hour_of_day, color = color[2])\n",
    "ax.set_xlabel('Hour of Day', size = 10 )\n",
    "ax.set_ylabel('Orders', size = 10)\n",
    "ax.tick_params(axis = 'both', labelsize = 8)\n",
    "ax.set_title('Total Orders per Hour of Day')\n",
    "fig.savefig('./plot/Total Orders per Hour of Day.png')\n",
    "plt.show()"
   ]
  },
  {
   "cell_type": "code",
   "execution_count": 26,
   "metadata": {},
   "outputs": [
    {
     "data": {
      "image/png": "[encoded data removed]",
      "text/plain": [
       "<Figure size 720x360 with 1 Axes>"
      ]
     },
     "metadata": {
      "needs_background": "light"
     },
     "output_type": "display_data"
    }
   ],
   "source": [
    "fig, ax = plt.subplots(figsize = (10,5))\n",
    "ax = sns.countplot(x=orders.days_since_prior_order, color = color[2])\n",
    "ax.set_xlabel('Days since prior order', size = 10)\n",
    "ax.set_ylabel('Orders', size = 10)\n",
    "ax.tick_params(axis = 'both', labelsize = 8)\n",
    "ax.set_title('Orders VS Days since prior order')\n",
    "fig.savefig('./plot/Orders VS Days since prior order.png')\n",
    "plt.show()"
   ]
  },
  {
   "cell_type": "code",
   "execution_count": 27,
   "metadata": {},
   "outputs": [
    {
     "data": {
      "text/html": [
       "<div>\n",
       "<style scoped>\n",
       "    .dataframe tbody tr th:only-of-type {\n",
       "        vertical-align: middle;\n",
       "    }\n",
       "\n",
       "    .dataframe tbody tr th {\n",
       "        vertical-align: top;\n",
       "    }\n",
       "\n",
       "    .dataframe thead th {\n",
       "        text-align: right;\n",
       "    }\n",
       "</style>\n",
       "<table border=\"1\" class=\"dataframe\">\n",
       "  <thead>\n",
       "    <tr style=\"text-align: right;\">\n",
       "      <th>order_hour_of_day</th>\n",
       "      <th>0.0</th>\n",
       "      <th>1.0</th>\n",
       "      <th>2.0</th>\n",
       "      <th>3.0</th>\n",
       "      <th>4.0</th>\n",
       "      <th>...</th>\n",
       "      <th>19.0</th>\n",
       "      <th>20.0</th>\n",
       "      <th>21.0</th>\n",
       "      <th>22.0</th>\n",
       "      <th>23.0</th>\n",
       "    </tr>\n",
       "    <tr>\n",
       "      <th>order_dow</th>\n",
       "      <th></th>\n",
       "      <th></th>\n",
       "      <th></th>\n",
       "      <th></th>\n",
       "      <th></th>\n",
       "      <th></th>\n",
       "      <th></th>\n",
       "      <th></th>\n",
       "      <th></th>\n",
       "      <th></th>\n",
       "      <th></th>\n",
       "    </tr>\n",
       "  </thead>\n",
       "  <tbody>\n",
       "    <tr>\n",
       "      <th>0.0</th>\n",
       "      <td>1146</td>\n",
       "      <td>681</td>\n",
       "      <td>417</td>\n",
       "      <td>304</td>\n",
       "      <td>222</td>\n",
       "      <td>...</td>\n",
       "      <td>6621</td>\n",
       "      <td>5311</td>\n",
       "      <td>4202</td>\n",
       "      <td>3298</td>\n",
       "      <td>2010</td>\n",
       "    </tr>\n",
       "    <tr>\n",
       "      <th>1.0</th>\n",
       "      <td>1049</td>\n",
       "      <td>528</td>\n",
       "      <td>328</td>\n",
       "      <td>234</td>\n",
       "      <td>253</td>\n",
       "      <td>...</td>\n",
       "      <td>6446</td>\n",
       "      <td>4659</td>\n",
       "      <td>3470</td>\n",
       "      <td>2571</td>\n",
       "      <td>1620</td>\n",
       "    </tr>\n",
       "    <tr>\n",
       "      <th>2.0</th>\n",
       "      <td>890</td>\n",
       "      <td>446</td>\n",
       "      <td>254</td>\n",
       "      <td>212</td>\n",
       "      <td>227</td>\n",
       "      <td>...</td>\n",
       "      <td>5874</td>\n",
       "      <td>4335</td>\n",
       "      <td>3162</td>\n",
       "      <td>2380</td>\n",
       "      <td>1547</td>\n",
       "    </tr>\n",
       "    <tr>\n",
       "      <th>3.0</th>\n",
       "      <td>859</td>\n",
       "      <td>428</td>\n",
       "      <td>274</td>\n",
       "      <td>181</td>\n",
       "      <td>231</td>\n",
       "      <td>...</td>\n",
       "      <td>5478</td>\n",
       "      <td>3951</td>\n",
       "      <td>3018</td>\n",
       "      <td>2433</td>\n",
       "      <td>1451</td>\n",
       "    </tr>\n",
       "    <tr>\n",
       "      <th>4.0</th>\n",
       "      <td>771</td>\n",
       "      <td>415</td>\n",
       "      <td>269</td>\n",
       "      <td>194</td>\n",
       "      <td>235</td>\n",
       "      <td>...</td>\n",
       "      <td>5618</td>\n",
       "      <td>4186</td>\n",
       "      <td>3196</td>\n",
       "      <td>2543</td>\n",
       "      <td>1637</td>\n",
       "    </tr>\n",
       "  </tbody>\n",
       "</table>\n",
       "<p>5 rows × 24 columns</p>\n",
       "</div>"
      ],
      "text/plain": [
       "order_hour_of_day  0.0   1.0   2.0   3.0   4.0   ...  19.0  20.0  21.0  22.0  \\\n",
       "order_dow                                        ...                           \n",
       "0.0                1146   681   417   304   222  ...  6621  5311  4202  3298   \n",
       "1.0                1049   528   328   234   253  ...  6446  4659  3470  2571   \n",
       "2.0                 890   446   254   212   227  ...  5874  4335  3162  2380   \n",
       "3.0                 859   428   274   181   231  ...  5478  3951  3018  2433   \n",
       "4.0                 771   415   269   194   235  ...  5618  4186  3196  2543   \n",
       "\n",
       "order_hour_of_day  23.0  \n",
       "order_dow                \n",
       "0.0                2010  \n",
       "1.0                1620  \n",
       "2.0                1547  \n",
       "3.0                1451  \n",
       "4.0                1637  \n",
       "\n",
       "[5 rows x 24 columns]"
      ]
     },
     "execution_count": 27,
     "metadata": {},
     "output_type": "execute_result"
    }
   ],
   "source": [
    "temp_df = orders.groupby([\"order_dow\", \"order_hour_of_day\"])[\"order_number\"].aggregate(\"count\").reset_index()\n",
    "temp_df = temp_df.pivot('order_dow', 'order_hour_of_day', 'order_number')\n",
    "temp_df.head()"
   ]
  },
  {
   "cell_type": "code",
   "execution_count": 28,
   "metadata": {},
   "outputs": [
    {
     "data": {
      "image/png": "[encoded data removed]",
      "text/plain": [
       "<Figure size 504x216 with 2 Axes>"
      ]
     },
     "metadata": {
      "needs_background": "light"
     },
     "output_type": "display_data"
    }
   ],
   "source": [
    "ax = plt.subplots(figsize=(7,3))\n",
    "ax = sns.heatmap(temp_df, cmap=\"YlGnBu\", linewidths=.5)\n",
    "ax.set_title(\"Frequency of Day of week Vs Hour of day\", size = 12)\n",
    "ax.set_xlabel(\"Hour of Day\", size = 10)\n",
    "ax.set_ylabel(\"Day of Week\", size = 10)\n",
    "ax.tick_params(axis = 'both', labelsize = 8)\n",
    "cbar = ax.collections[0].colorbar\n",
    "cbar.ax.tick_params(labelsize=10)\n",
    "fig = ax.get_figure()\n",
    "fig.savefig(\"Frequency of Day of week Vs Hour of day.png\")\n",
    "plt.show()"
   ]
  },
  {
   "cell_type": "markdown",
   "metadata": {},
   "source": [
    "### order_products_prior:\n",
    "\n",
    "This file gives information about which products were ordered and in which order they were added in the cart. It also tells us that if the product was reordered or not. \n",
    "\n",
    "- In this file there is an information of total 3214874 orders through which total 49677 products were ordered. \n",
    "- From the 'Count VS Items in cart' plot, we can say that most of the people buy 1-15 items in an order and there were a maximum of 145 items in an order.\n",
    "- The percentage of reorder items in this set is 58.97%."
   ]
  },
  {
   "cell_type": "code",
   "execution_count": 29,
   "metadata": {},
   "outputs": [
    {
     "data": {
      "text/html": [
       "<div>\n",
       "<style scoped>\n",
       "    .dataframe tbody tr th:only-of-type {\n",
       "        vertical-align: middle;\n",
       "    }\n",
       "\n",
       "    .dataframe tbody tr th {\n",
       "        vertical-align: top;\n",
       "    }\n",
       "\n",
       "    .dataframe thead th {\n",
       "        text-align: right;\n",
       "    }\n",
       "</style>\n",
       "<table border=\"1\" class=\"dataframe\">\n",
       "  <thead>\n",
       "    <tr style=\"text-align: right;\">\n",
       "      <th></th>\n",
       "      <th>order_id</th>\n",
       "      <th>product_id</th>\n",
       "      <th>add_to_cart_order</th>\n",
       "      <th>reordered</th>\n",
       "    </tr>\n",
       "  </thead>\n",
       "  <tbody>\n",
       "    <tr>\n",
       "      <th>0</th>\n",
       "      <td>NaN</td>\n",
       "      <td>NaN</td>\n",
       "      <td>NaN</td>\n",
       "      <td>NaN</td>\n",
       "    </tr>\n",
       "    <tr>\n",
       "      <th>1</th>\n",
       "      <td>2.0</td>\n",
       "      <td>33120.0</td>\n",
       "      <td>1.0</td>\n",
       "      <td>1.0</td>\n",
       "    </tr>\n",
       "    <tr>\n",
       "      <th>2</th>\n",
       "      <td>2.0</td>\n",
       "      <td>28985.0</td>\n",
       "      <td>2.0</td>\n",
       "      <td>1.0</td>\n",
       "    </tr>\n",
       "    <tr>\n",
       "      <th>3</th>\n",
       "      <td>2.0</td>\n",
       "      <td>9327.0</td>\n",
       "      <td>3.0</td>\n",
       "      <td>0.0</td>\n",
       "    </tr>\n",
       "    <tr>\n",
       "      <th>4</th>\n",
       "      <td>2.0</td>\n",
       "      <td>45918.0</td>\n",
       "      <td>4.0</td>\n",
       "      <td>1.0</td>\n",
       "    </tr>\n",
       "    <tr>\n",
       "      <th>5</th>\n",
       "      <td>2.0</td>\n",
       "      <td>30035.0</td>\n",
       "      <td>5.0</td>\n",
       "      <td>0.0</td>\n",
       "    </tr>\n",
       "    <tr>\n",
       "      <th>6</th>\n",
       "      <td>2.0</td>\n",
       "      <td>17794.0</td>\n",
       "      <td>6.0</td>\n",
       "      <td>1.0</td>\n",
       "    </tr>\n",
       "    <tr>\n",
       "      <th>7</th>\n",
       "      <td>2.0</td>\n",
       "      <td>40141.0</td>\n",
       "      <td>7.0</td>\n",
       "      <td>1.0</td>\n",
       "    </tr>\n",
       "    <tr>\n",
       "      <th>8</th>\n",
       "      <td>2.0</td>\n",
       "      <td>1819.0</td>\n",
       "      <td>8.0</td>\n",
       "      <td>1.0</td>\n",
       "    </tr>\n",
       "    <tr>\n",
       "      <th>9</th>\n",
       "      <td>2.0</td>\n",
       "      <td>43668.0</td>\n",
       "      <td>9.0</td>\n",
       "      <td>0.0</td>\n",
       "    </tr>\n",
       "  </tbody>\n",
       "</table>\n",
       "</div>"
      ],
      "text/plain": [
       "   order_id  product_id  add_to_cart_order  reordered\n",
       "0       NaN         NaN                NaN        NaN\n",
       "1       2.0     33120.0                1.0        1.0\n",
       "2       2.0     28985.0                2.0        1.0\n",
       "3       2.0      9327.0                3.0        0.0\n",
       "4       2.0     45918.0                4.0        1.0\n",
       "5       2.0     30035.0                5.0        0.0\n",
       "6       2.0     17794.0                6.0        1.0\n",
       "7       2.0     40141.0                7.0        1.0\n",
       "8       2.0      1819.0                8.0        1.0\n",
       "9       2.0     43668.0                9.0        0.0"
      ]
     },
     "execution_count": 29,
     "metadata": {},
     "output_type": "execute_result"
    }
   ],
   "source": [
    "order_products_prior.head(10)"
   ]
  },
  {
   "cell_type": "code",
   "execution_count": 30,
   "metadata": {},
   "outputs": [
    {
     "data": {
      "text/html": [
       "<div>\n",
       "<style scoped>\n",
       "    .dataframe tbody tr th:only-of-type {\n",
       "        vertical-align: middle;\n",
       "    }\n",
       "\n",
       "    .dataframe tbody tr th {\n",
       "        vertical-align: top;\n",
       "    }\n",
       "\n",
       "    .dataframe thead th {\n",
       "        text-align: right;\n",
       "    }\n",
       "</style>\n",
       "<table border=\"1\" class=\"dataframe\">\n",
       "  <thead>\n",
       "    <tr style=\"text-align: right;\">\n",
       "      <th></th>\n",
       "      <th>order_id</th>\n",
       "      <th>product_id</th>\n",
       "      <th>add_to_cart_order</th>\n",
       "      <th>reordered</th>\n",
       "    </tr>\n",
       "  </thead>\n",
       "  <tbody>\n",
       "    <tr>\n",
       "      <th>999995</th>\n",
       "      <td>105629.0</td>\n",
       "      <td>3952.0</td>\n",
       "      <td>8.0</td>\n",
       "      <td>1.0</td>\n",
       "    </tr>\n",
       "    <tr>\n",
       "      <th>999996</th>\n",
       "      <td>105629.0</td>\n",
       "      <td>18670.0</td>\n",
       "      <td>9.0</td>\n",
       "      <td>1.0</td>\n",
       "    </tr>\n",
       "    <tr>\n",
       "      <th>999997</th>\n",
       "      <td>105629.0</td>\n",
       "      <td>7010.0</td>\n",
       "      <td>10.0</td>\n",
       "      <td>1.0</td>\n",
       "    </tr>\n",
       "    <tr>\n",
       "      <th>999998</th>\n",
       "      <td>105629.0</td>\n",
       "      <td>3142.0</td>\n",
       "      <td>11.0</td>\n",
       "      <td>1.0</td>\n",
       "    </tr>\n",
       "    <tr>\n",
       "      <th>999999</th>\n",
       "      <td>105629.0</td>\n",
       "      <td>28849.0</td>\n",
       "      <td>12.0</td>\n",
       "      <td>0.0</td>\n",
       "    </tr>\n",
       "  </tbody>\n",
       "</table>\n",
       "</div>"
      ],
      "text/plain": [
       "        order_id  product_id  add_to_cart_order  reordered\n",
       "999995  105629.0      3952.0                8.0        1.0\n",
       "999996  105629.0     18670.0                9.0        1.0\n",
       "999997  105629.0      7010.0               10.0        1.0\n",
       "999998  105629.0      3142.0               11.0        1.0\n",
       "999999  105629.0     28849.0               12.0        0.0"
      ]
     },
     "execution_count": 30,
     "metadata": {},
     "output_type": "execute_result"
    }
   ],
   "source": [
    "order_products_prior.tail()"
   ]
  },
  {
   "cell_type": "code",
   "execution_count": 31,
   "metadata": {},
   "outputs": [
    {
     "data": {
      "text/plain": [
       "99261"
      ]
     },
     "execution_count": 31,
     "metadata": {},
     "output_type": "execute_result"
    }
   ],
   "source": [
    "len(order_products_prior.order_id.unique())"
   ]
  },
  {
   "cell_type": "code",
   "execution_count": 32,
   "metadata": {},
   "outputs": [
    {
     "data": {
      "text/plain": [
       "35099"
      ]
     },
     "execution_count": 32,
     "metadata": {},
     "output_type": "execute_result"
    }
   ],
   "source": [
    "len(order_products_prior.product_id.unique())"
   ]
  },
  {
   "cell_type": "code",
   "execution_count": 33,
   "metadata": {},
   "outputs": [],
   "source": [
    "add_to_cart_order_prior = order_products_prior.groupby('order_id')['add_to_cart_order'].count()\n",
    "add_to_cart_order_prior = add_to_cart_order_prior.value_counts()"
   ]
  },
  {
   "cell_type": "code",
   "execution_count": 34,
   "metadata": {},
   "outputs": [
    {
     "data": {
      "text/plain": [
       "6    7055\n",
       "5    7009\n",
       "4    6846\n",
       "7    6788\n",
       "3    6319\n",
       "Name: add_to_cart_order, dtype: int64"
      ]
     },
     "execution_count": 34,
     "metadata": {},
     "output_type": "execute_result"
    }
   ],
   "source": [
    "add_to_cart_order_prior.head()"
   ]
  },
  {
   "cell_type": "code",
   "execution_count": 35,
   "metadata": {},
   "outputs": [
    {
     "data": {
      "text/plain": [
       "127    1\n",
       "83     1\n",
       "75     1\n",
       "109    1\n",
       "95     1\n",
       "Name: add_to_cart_order, dtype: int64"
      ]
     },
     "execution_count": 35,
     "metadata": {},
     "output_type": "execute_result"
    }
   ],
   "source": [
    "add_to_cart_order_prior.tail()"
   ]
  },
  {
   "cell_type": "code",
   "execution_count": 36,
   "metadata": {},
   "outputs": [
    {
     "data": {
      "text/plain": [
       "127"
      ]
     },
     "execution_count": 36,
     "metadata": {},
     "output_type": "execute_result"
    }
   ],
   "source": [
    "add_to_cart_order_prior.index.max()"
   ]
  },
  {
   "cell_type": "code",
   "execution_count": 37,
   "metadata": {},
   "outputs": [
    {
     "data": {
      "image/png": "[encoded data removed]",
      "text/plain": [
       "<Figure size 1080x576 with 1 Axes>"
      ]
     },
     "metadata": {
      "needs_background": "light"
     },
     "output_type": "display_data"
    }
   ],
   "source": [
    "fig, ax = plt.subplots(figsize = (15,8))\n",
    "ax = sns.barplot(x = add_to_cart_order_prior.index, y = add_to_cart_order_prior.values, color = color[3])\n",
    "ax.set_xlabel('Items in cart')\n",
    "ax.set_ylabel('Count')\n",
    "ax.xaxis.set_tick_params(rotation=90, labelsize = 9)\n",
    "ax.set_title('Frequency of Items in Cart in Prior set', size = 15)\n",
    "fig.savefig('./plot/Frequency of Items in Cart in Prior set.png')"
   ]
  },
  {
   "cell_type": "code",
   "execution_count": 38,
   "metadata": {},
   "outputs": [
    {
     "data": {
      "image/png": "[encoded data removed]",
      "text/plain": [
       "<Figure size 216x216 with 1 Axes>"
      ]
     },
     "metadata": {
      "needs_background": "light"
     },
     "output_type": "display_data"
    }
   ],
   "source": [
    "fig, ax = plt.subplots(figsize=(3,3))\n",
    "ax = sns.barplot(x = order_products_prior.reordered.value_counts().index, \n",
    "                y = order_products_prior.reordered.value_counts().values, color = color[3])\n",
    "ax.set_xlabel('Reorder', size = 10)\n",
    "ax.set_ylabel('Count', size = 10)\n",
    "ax.tick_params(axis = 'both', labelsize = 8)\n",
    "ax.ticklabel_format(style='plain', axis='y')\n",
    "ax.set_title('Reorder Frequency in Prior Set')\n",
    "fig.savefig('./plot/Reorder Frequency in Prior Set')\n",
    "plt.show()"
   ]
  },
  {
   "cell_type": "code",
   "execution_count": 39,
   "metadata": {},
   "outputs": [
    {
     "name": "stdout",
     "output_type": "stream",
     "text": [
      "Percentage of reorder in prior set: 59.03\n"
     ]
    }
   ],
   "source": [
    "print('Percentage of reorder in prior set:',\n",
    "      format(order_products_prior[order_products_prior.reordered == 1].shape[0]*100/order_products_prior.shape[0], '.2f'))"
   ]
  },
  {
   "cell_type": "markdown",
   "metadata": {},
   "source": [
    "### order_products_train:\n",
    "\n",
    "This file gives information about which products were ordered and in which order they were added in the cart. It also tells us that if the product was reordered or not. \n",
    "\n",
    "- In this file there is an information of total 131209 orders through which total 39123 products were ordered. \n",
    "- From the 'Count VS Items in cart' plot, we can say that most of the people buy 1-15 items in an order and there were a maximum of 145 items in an order.\n",
    "- The percentage of reorder items in this set is 59.86%."
   ]
  },
  {
   "cell_type": "code",
   "execution_count": 40,
   "metadata": {},
   "outputs": [
    {
     "data": {
      "text/html": [
       "<div>\n",
       "<style scoped>\n",
       "    .dataframe tbody tr th:only-of-type {\n",
       "        vertical-align: middle;\n",
       "    }\n",
       "\n",
       "    .dataframe tbody tr th {\n",
       "        vertical-align: top;\n",
       "    }\n",
       "\n",
       "    .dataframe thead th {\n",
       "        text-align: right;\n",
       "    }\n",
       "</style>\n",
       "<table border=\"1\" class=\"dataframe\">\n",
       "  <thead>\n",
       "    <tr style=\"text-align: right;\">\n",
       "      <th></th>\n",
       "      <th>order_id</th>\n",
       "      <th>product_id</th>\n",
       "      <th>add_to_cart_order</th>\n",
       "      <th>reordered</th>\n",
       "    </tr>\n",
       "  </thead>\n",
       "  <tbody>\n",
       "    <tr>\n",
       "      <th>0</th>\n",
       "      <td>NaN</td>\n",
       "      <td>NaN</td>\n",
       "      <td>NaN</td>\n",
       "      <td>NaN</td>\n",
       "    </tr>\n",
       "    <tr>\n",
       "      <th>1</th>\n",
       "      <td>1.0</td>\n",
       "      <td>49302.0</td>\n",
       "      <td>1.0</td>\n",
       "      <td>1.0</td>\n",
       "    </tr>\n",
       "    <tr>\n",
       "      <th>2</th>\n",
       "      <td>1.0</td>\n",
       "      <td>11109.0</td>\n",
       "      <td>2.0</td>\n",
       "      <td>1.0</td>\n",
       "    </tr>\n",
       "    <tr>\n",
       "      <th>3</th>\n",
       "      <td>1.0</td>\n",
       "      <td>10246.0</td>\n",
       "      <td>3.0</td>\n",
       "      <td>0.0</td>\n",
       "    </tr>\n",
       "    <tr>\n",
       "      <th>4</th>\n",
       "      <td>1.0</td>\n",
       "      <td>49683.0</td>\n",
       "      <td>4.0</td>\n",
       "      <td>0.0</td>\n",
       "    </tr>\n",
       "    <tr>\n",
       "      <th>5</th>\n",
       "      <td>1.0</td>\n",
       "      <td>43633.0</td>\n",
       "      <td>5.0</td>\n",
       "      <td>1.0</td>\n",
       "    </tr>\n",
       "    <tr>\n",
       "      <th>6</th>\n",
       "      <td>1.0</td>\n",
       "      <td>13176.0</td>\n",
       "      <td>6.0</td>\n",
       "      <td>0.0</td>\n",
       "    </tr>\n",
       "    <tr>\n",
       "      <th>7</th>\n",
       "      <td>1.0</td>\n",
       "      <td>47209.0</td>\n",
       "      <td>7.0</td>\n",
       "      <td>0.0</td>\n",
       "    </tr>\n",
       "    <tr>\n",
       "      <th>8</th>\n",
       "      <td>1.0</td>\n",
       "      <td>22035.0</td>\n",
       "      <td>8.0</td>\n",
       "      <td>1.0</td>\n",
       "    </tr>\n",
       "    <tr>\n",
       "      <th>9</th>\n",
       "      <td>36.0</td>\n",
       "      <td>39612.0</td>\n",
       "      <td>1.0</td>\n",
       "      <td>0.0</td>\n",
       "    </tr>\n",
       "  </tbody>\n",
       "</table>\n",
       "</div>"
      ],
      "text/plain": [
       "   order_id  product_id  add_to_cart_order  reordered\n",
       "0       NaN         NaN                NaN        NaN\n",
       "1       1.0     49302.0                1.0        1.0\n",
       "2       1.0     11109.0                2.0        1.0\n",
       "3       1.0     10246.0                3.0        0.0\n",
       "4       1.0     49683.0                4.0        0.0\n",
       "5       1.0     43633.0                5.0        1.0\n",
       "6       1.0     13176.0                6.0        0.0\n",
       "7       1.0     47209.0                7.0        0.0\n",
       "8       1.0     22035.0                8.0        1.0\n",
       "9      36.0     39612.0                1.0        0.0"
      ]
     },
     "execution_count": 40,
     "metadata": {},
     "output_type": "execute_result"
    }
   ],
   "source": [
    "order_products_train.head(10)"
   ]
  },
  {
   "cell_type": "code",
   "execution_count": 41,
   "metadata": {},
   "outputs": [
    {
     "data": {
      "text/html": [
       "<div>\n",
       "<style scoped>\n",
       "    .dataframe tbody tr th:only-of-type {\n",
       "        vertical-align: middle;\n",
       "    }\n",
       "\n",
       "    .dataframe tbody tr th {\n",
       "        vertical-align: top;\n",
       "    }\n",
       "\n",
       "    .dataframe thead th {\n",
       "        text-align: right;\n",
       "    }\n",
       "</style>\n",
       "<table border=\"1\" class=\"dataframe\">\n",
       "  <thead>\n",
       "    <tr style=\"text-align: right;\">\n",
       "      <th></th>\n",
       "      <th>order_id</th>\n",
       "      <th>product_id</th>\n",
       "      <th>add_to_cart_order</th>\n",
       "      <th>reordered</th>\n",
       "    </tr>\n",
       "  </thead>\n",
       "  <tbody>\n",
       "    <tr>\n",
       "      <th>999995</th>\n",
       "      <td>2470459.0</td>\n",
       "      <td>35586.0</td>\n",
       "      <td>10.0</td>\n",
       "      <td>0.0</td>\n",
       "    </tr>\n",
       "    <tr>\n",
       "      <th>999996</th>\n",
       "      <td>2470459.0</td>\n",
       "      <td>9076.0</td>\n",
       "      <td>11.0</td>\n",
       "      <td>0.0</td>\n",
       "    </tr>\n",
       "    <tr>\n",
       "      <th>999997</th>\n",
       "      <td>2470483.0</td>\n",
       "      <td>28040.0</td>\n",
       "      <td>1.0</td>\n",
       "      <td>0.0</td>\n",
       "    </tr>\n",
       "    <tr>\n",
       "      <th>999998</th>\n",
       "      <td>2470483.0</td>\n",
       "      <td>17889.0</td>\n",
       "      <td>2.0</td>\n",
       "      <td>0.0</td>\n",
       "    </tr>\n",
       "    <tr>\n",
       "      <th>999999</th>\n",
       "      <td>2470483.0</td>\n",
       "      <td>39057.0</td>\n",
       "      <td>3.0</td>\n",
       "      <td>0.0</td>\n",
       "    </tr>\n",
       "  </tbody>\n",
       "</table>\n",
       "</div>"
      ],
      "text/plain": [
       "         order_id  product_id  add_to_cart_order  reordered\n",
       "999995  2470459.0     35586.0               10.0        0.0\n",
       "999996  2470459.0      9076.0               11.0        0.0\n",
       "999997  2470483.0     28040.0                1.0        0.0\n",
       "999998  2470483.0     17889.0                2.0        0.0\n",
       "999999  2470483.0     39057.0                3.0        0.0"
      ]
     },
     "execution_count": 41,
     "metadata": {},
     "output_type": "execute_result"
    }
   ],
   "source": [
    "order_products_train.tail()"
   ]
  },
  {
   "cell_type": "code",
   "execution_count": 42,
   "metadata": {},
   "outputs": [
    {
     "data": {
      "text/plain": [
       "94955"
      ]
     },
     "execution_count": 42,
     "metadata": {},
     "output_type": "execute_result"
    }
   ],
   "source": [
    "len(order_products_train.order_id.unique())"
   ]
  },
  {
   "cell_type": "code",
   "execution_count": 43,
   "metadata": {},
   "outputs": [
    {
     "data": {
      "text/plain": [
       "36474"
      ]
     },
     "execution_count": 43,
     "metadata": {},
     "output_type": "execute_result"
    }
   ],
   "source": [
    "len(order_products_train.product_id.unique())"
   ]
  },
  {
   "cell_type": "code",
   "execution_count": 44,
   "metadata": {},
   "outputs": [],
   "source": [
    "add_to_cart_order_train = order_products_prior.groupby('order_id')['add_to_cart_order'].count()\n",
    "add_to_cart_order_train = add_to_cart_order_train.value_counts()"
   ]
  },
  {
   "cell_type": "code",
   "execution_count": 45,
   "metadata": {},
   "outputs": [
    {
     "data": {
      "text/plain": [
       "6    7055\n",
       "5    7009\n",
       "4    6846\n",
       "7    6788\n",
       "3    6319\n",
       "Name: add_to_cart_order, dtype: int64"
      ]
     },
     "execution_count": 45,
     "metadata": {},
     "output_type": "execute_result"
    }
   ],
   "source": [
    "add_to_cart_order_train.head()"
   ]
  },
  {
   "cell_type": "code",
   "execution_count": 46,
   "metadata": {},
   "outputs": [
    {
     "data": {
      "text/plain": [
       "127    1\n",
       "83     1\n",
       "75     1\n",
       "109    1\n",
       "95     1\n",
       "Name: add_to_cart_order, dtype: int64"
      ]
     },
     "execution_count": 46,
     "metadata": {},
     "output_type": "execute_result"
    }
   ],
   "source": [
    "add_to_cart_order_train.tail()"
   ]
  },
  {
   "cell_type": "code",
   "execution_count": 47,
   "metadata": {},
   "outputs": [
    {
     "data": {
      "text/plain": [
       "127"
      ]
     },
     "execution_count": 47,
     "metadata": {},
     "output_type": "execute_result"
    }
   ],
   "source": [
    "add_to_cart_order_train.index.max()"
   ]
  },
  {
   "cell_type": "code",
   "execution_count": 48,
   "metadata": {},
   "outputs": [
    {
     "data": {
      "image/png": "[encoded data removed]",
      "text/plain": [
       "<Figure size 1080x576 with 1 Axes>"
      ]
     },
     "metadata": {
      "needs_background": "light"
     },
     "output_type": "display_data"
    }
   ],
   "source": [
    "fig, ax = plt.subplots(figsize = (15,8))\n",
    "ax = sns.barplot(x = add_to_cart_order_train.index, y = add_to_cart_order_train.values, color = color[2])\n",
    "ax.set_xlabel('Items in cart')\n",
    "ax.set_ylabel('Count')\n",
    "ax.xaxis.set_tick_params(rotation=90, labelsize = 8)\n",
    "ax.set_title('Frequency of Items in Cart in Train set', size = 15)\n",
    "fig.savefig('./plot/Frequency of Items in Cart in Train set.png')"
   ]
  },
  {
   "cell_type": "code",
   "execution_count": 49,
   "metadata": {},
   "outputs": [
    {
     "data": {
      "image/png": "[encoded data removed]",
      "text/plain": [
       "<Figure size 216x216 with 1 Axes>"
      ]
     },
     "metadata": {
      "needs_background": "light"
     },
     "output_type": "display_data"
    }
   ],
   "source": [
    "fig, ax = plt.subplots(figsize=(3,3))\n",
    "ax = sns.barplot(x = order_products_train.reordered.value_counts().index, \n",
    "                y = order_products_train.reordered.value_counts().values, color = color[2])\n",
    "ax.set_xlabel('Reorder', size = 10)\n",
    "ax.set_ylabel('Count', size = 10)\n",
    "ax.tick_params(axis = 'both', labelsize = 8)\n",
    "ax.set_title('Reorder Frequency in Train Set')\n",
    "fig.savefig('./plot/Reorder Frequency in Train Set')\n",
    "plt.show()"
   ]
  },
  {
   "cell_type": "code",
   "execution_count": 50,
   "metadata": {},
   "outputs": [
    {
     "name": "stdout",
     "output_type": "stream",
     "text": [
      "Percentage of reorder in train set: 59.83\n"
     ]
    }
   ],
   "source": [
    "print('Percentage of reorder in train set:',\n",
    "      format(order_products_train[order_products_train.reordered == 1].shape[0]*100/order_products_train.shape[0], '.2f'))"
   ]
  },
  {
   "cell_type": "markdown",
   "metadata": {},
   "source": [
    "### products:\n",
    "\n",
    "This file contains the list of total 49688 products and their aisle as well as department. The number of products in different aisles and different departments are different."
   ]
  },
  {
   "cell_type": "code",
   "execution_count": 51,
   "metadata": {},
   "outputs": [
    {
     "data": {
      "text/html": [
       "<div>\n",
       "<style scoped>\n",
       "    .dataframe tbody tr th:only-of-type {\n",
       "        vertical-align: middle;\n",
       "    }\n",
       "\n",
       "    .dataframe tbody tr th {\n",
       "        vertical-align: top;\n",
       "    }\n",
       "\n",
       "    .dataframe thead th {\n",
       "        text-align: right;\n",
       "    }\n",
       "</style>\n",
       "<table border=\"1\" class=\"dataframe\">\n",
       "  <thead>\n",
       "    <tr style=\"text-align: right;\">\n",
       "      <th></th>\n",
       "      <th>product_id</th>\n",
       "      <th>product_name</th>\n",
       "      <th>aisle_id</th>\n",
       "      <th>department_id</th>\n",
       "    </tr>\n",
       "  </thead>\n",
       "  <tbody>\n",
       "    <tr>\n",
       "      <th>0</th>\n",
       "      <td>NaN</td>\n",
       "      <td>product_name</td>\n",
       "      <td>NaN</td>\n",
       "      <td>NaN</td>\n",
       "    </tr>\n",
       "    <tr>\n",
       "      <th>1</th>\n",
       "      <td>1.0</td>\n",
       "      <td>Chocolate Sandwich Cookies</td>\n",
       "      <td>61.0</td>\n",
       "      <td>19.0</td>\n",
       "    </tr>\n",
       "    <tr>\n",
       "      <th>2</th>\n",
       "      <td>2.0</td>\n",
       "      <td>All-Seasons Salt</td>\n",
       "      <td>104.0</td>\n",
       "      <td>13.0</td>\n",
       "    </tr>\n",
       "    <tr>\n",
       "      <th>3</th>\n",
       "      <td>3.0</td>\n",
       "      <td>Robust Golden Unsweetened Oolong Tea</td>\n",
       "      <td>94.0</td>\n",
       "      <td>7.0</td>\n",
       "    </tr>\n",
       "    <tr>\n",
       "      <th>4</th>\n",
       "      <td>4.0</td>\n",
       "      <td>Smart Ones Classic Favorites Mini Rigatoni Wit...</td>\n",
       "      <td>38.0</td>\n",
       "      <td>1.0</td>\n",
       "    </tr>\n",
       "    <tr>\n",
       "      <th>5</th>\n",
       "      <td>5.0</td>\n",
       "      <td>Green Chile Anytime Sauce</td>\n",
       "      <td>5.0</td>\n",
       "      <td>13.0</td>\n",
       "    </tr>\n",
       "    <tr>\n",
       "      <th>6</th>\n",
       "      <td>6.0</td>\n",
       "      <td>Dry Nose Oil</td>\n",
       "      <td>11.0</td>\n",
       "      <td>11.0</td>\n",
       "    </tr>\n",
       "    <tr>\n",
       "      <th>7</th>\n",
       "      <td>7.0</td>\n",
       "      <td>Pure Coconut Water With Orange</td>\n",
       "      <td>98.0</td>\n",
       "      <td>7.0</td>\n",
       "    </tr>\n",
       "    <tr>\n",
       "      <th>8</th>\n",
       "      <td>8.0</td>\n",
       "      <td>Cut Russet Potatoes Steam N' Mash</td>\n",
       "      <td>116.0</td>\n",
       "      <td>1.0</td>\n",
       "    </tr>\n",
       "    <tr>\n",
       "      <th>9</th>\n",
       "      <td>9.0</td>\n",
       "      <td>Light Strawberry Blueberry Yogurt</td>\n",
       "      <td>120.0</td>\n",
       "      <td>16.0</td>\n",
       "    </tr>\n",
       "  </tbody>\n",
       "</table>\n",
       "</div>"
      ],
      "text/plain": [
       "   product_id                                       product_name  aisle_id  \\\n",
       "0         NaN                                       product_name       NaN   \n",
       "1         1.0                         Chocolate Sandwich Cookies      61.0   \n",
       "2         2.0                                   All-Seasons Salt     104.0   \n",
       "3         3.0               Robust Golden Unsweetened Oolong Tea      94.0   \n",
       "4         4.0  Smart Ones Classic Favorites Mini Rigatoni Wit...      38.0   \n",
       "5         5.0                          Green Chile Anytime Sauce       5.0   \n",
       "6         6.0                                       Dry Nose Oil      11.0   \n",
       "7         7.0                     Pure Coconut Water With Orange      98.0   \n",
       "8         8.0                  Cut Russet Potatoes Steam N' Mash     116.0   \n",
       "9         9.0                  Light Strawberry Blueberry Yogurt     120.0   \n",
       "\n",
       "   department_id  \n",
       "0            NaN  \n",
       "1           19.0  \n",
       "2           13.0  \n",
       "3            7.0  \n",
       "4            1.0  \n",
       "5           13.0  \n",
       "6           11.0  \n",
       "7            7.0  \n",
       "8            1.0  \n",
       "9           16.0  "
      ]
     },
     "execution_count": 51,
     "metadata": {},
     "output_type": "execute_result"
    }
   ],
   "source": [
    "products.head(10)"
   ]
  },
  {
   "cell_type": "code",
   "execution_count": 52,
   "metadata": {},
   "outputs": [
    {
     "data": {
      "text/html": [
       "<div>\n",
       "<style scoped>\n",
       "    .dataframe tbody tr th:only-of-type {\n",
       "        vertical-align: middle;\n",
       "    }\n",
       "\n",
       "    .dataframe tbody tr th {\n",
       "        vertical-align: top;\n",
       "    }\n",
       "\n",
       "    .dataframe thead th {\n",
       "        text-align: right;\n",
       "    }\n",
       "</style>\n",
       "<table border=\"1\" class=\"dataframe\">\n",
       "  <thead>\n",
       "    <tr style=\"text-align: right;\">\n",
       "      <th></th>\n",
       "      <th>product_id</th>\n",
       "      <th>product_name</th>\n",
       "      <th>aisle_id</th>\n",
       "      <th>department_id</th>\n",
       "    </tr>\n",
       "  </thead>\n",
       "  <tbody>\n",
       "    <tr>\n",
       "      <th>49684</th>\n",
       "      <td>49684.0</td>\n",
       "      <td>\"Vodka</td>\n",
       "      <td>NaN</td>\n",
       "      <td>NaN</td>\n",
       "    </tr>\n",
       "    <tr>\n",
       "      <th>49685</th>\n",
       "      <td>49685.0</td>\n",
       "      <td>En Croute Roast Hazelnut Cranberry</td>\n",
       "      <td>42.0</td>\n",
       "      <td>1.0</td>\n",
       "    </tr>\n",
       "    <tr>\n",
       "      <th>49686</th>\n",
       "      <td>49686.0</td>\n",
       "      <td>Artisan Baguette</td>\n",
       "      <td>112.0</td>\n",
       "      <td>3.0</td>\n",
       "    </tr>\n",
       "    <tr>\n",
       "      <th>49687</th>\n",
       "      <td>49687.0</td>\n",
       "      <td>Smartblend Healthy Metabolism Dry Cat Food</td>\n",
       "      <td>41.0</td>\n",
       "      <td>8.0</td>\n",
       "    </tr>\n",
       "    <tr>\n",
       "      <th>49688</th>\n",
       "      <td>49688.0</td>\n",
       "      <td>Fresh Foaming Cleanser</td>\n",
       "      <td>73.0</td>\n",
       "      <td>11.0</td>\n",
       "    </tr>\n",
       "  </tbody>\n",
       "</table>\n",
       "</div>"
      ],
      "text/plain": [
       "       product_id                                product_name  aisle_id  \\\n",
       "49684     49684.0                                      \"Vodka       NaN   \n",
       "49685     49685.0          En Croute Roast Hazelnut Cranberry      42.0   \n",
       "49686     49686.0                            Artisan Baguette     112.0   \n",
       "49687     49687.0  Smartblend Healthy Metabolism Dry Cat Food      41.0   \n",
       "49688     49688.0                      Fresh Foaming Cleanser      73.0   \n",
       "\n",
       "       department_id  \n",
       "49684            NaN  \n",
       "49685            1.0  \n",
       "49686            3.0  \n",
       "49687            8.0  \n",
       "49688           11.0  "
      ]
     },
     "execution_count": 52,
     "metadata": {},
     "output_type": "execute_result"
    }
   ],
   "source": [
    "products.tail()"
   ]
  },
  {
   "cell_type": "code",
   "execution_count": 53,
   "metadata": {},
   "outputs": [
    {
     "data": {
      "text/plain": [
       "48616"
      ]
     },
     "execution_count": 53,
     "metadata": {},
     "output_type": "execute_result"
    }
   ],
   "source": [
    "len(products.product_name.unique())"
   ]
  },
  {
   "cell_type": "code",
   "execution_count": 54,
   "metadata": {},
   "outputs": [
    {
     "data": {
      "text/plain": [
       "135"
      ]
     },
     "execution_count": 54,
     "metadata": {},
     "output_type": "execute_result"
    }
   ],
   "source": [
    "len(products.aisle_id.unique())"
   ]
  },
  {
   "cell_type": "code",
   "execution_count": 55,
   "metadata": {},
   "outputs": [
    {
     "data": {
      "text/plain": [
       "130"
      ]
     },
     "execution_count": 55,
     "metadata": {},
     "output_type": "execute_result"
    }
   ],
   "source": [
    "len(products.department_id.unique())"
   ]
  },
  {
   "cell_type": "code",
   "execution_count": 56,
   "metadata": {},
   "outputs": [
    {
     "data": {
      "image/png": "[encoded data removed]",
      "text/plain": [
       "<Figure size 1080x432 with 1 Axes>"
      ]
     },
     "metadata": {
      "needs_background": "light"
     },
     "output_type": "display_data"
    }
   ],
   "source": [
    "temp_df = products.groupby('aisle_id')['product_id'].count()\n",
    "\n",
    "fig, ax = plt.subplots(figsize = (15,6))\n",
    "ax = sns.barplot(x = temp_df.index, y = temp_df.values, color = color[3])\n",
    "ax.set_xlabel('Aisle Id')\n",
    "ax.set_ylabel('Total products in aisle')\n",
    "ax.xaxis.set_tick_params(rotation=90, labelsize = 7)\n",
    "ax.set_title('Total Products in Aisle VS Aisle ID', size = 12)\n",
    "fig.savefig('./plot/Total Products in Aisle VS Aisle ID.png')"
   ]
  },
  {
   "cell_type": "code",
   "execution_count": 57,
   "metadata": {},
   "outputs": [
    {
     "data": {
      "image/png": "[encoded data removed]",
      "text/plain": [
       "<Figure size 576x360 with 1 Axes>"
      ]
     },
     "metadata": {
      "needs_background": "light"
     },
     "output_type": "display_data"
    }
   ],
   "source": [
    "temp_df = products.groupby('department_id')['product_id'].count()\n",
    "\n",
    "fig, ax = plt.subplots(figsize = (8,5))\n",
    "ax = sns.barplot(x = temp_df.index, y = temp_df.values, color = color[2])\n",
    "ax.set_xlabel('Department Id')\n",
    "ax.set_ylabel('Total products in department')\n",
    "ax.xaxis.set_tick_params(rotation=90, labelsize = 9)\n",
    "ax.set_title('Total Products in Department VS Department ID', size = 10)\n",
    "fig.savefig('./plot/Total Products in Department VS Department ID.png')"
   ]
  },
  {
   "cell_type": "code",
   "execution_count": 58,
   "metadata": {},
   "outputs": [
    {
     "data": {
      "image/png": "[encoded data removed]",
      "text/plain": [
       "<Figure size 576x360 with 1 Axes>"
      ]
     },
     "metadata": {
      "needs_background": "light"
     },
     "output_type": "display_data"
    }
   ],
   "source": [
    "temp_df = products.groupby('department_id')['aisle_id'].nunique()\n",
    "\n",
    "fig, ax = plt.subplots(figsize = (8,5))\n",
    "ax = sns.barplot(x = temp_df.index, y = temp_df.values)\n",
    "ax.set_xlabel('Department Id')\n",
    "ax.set_ylabel('Total Aisles in department')\n",
    "ax.xaxis.set_tick_params(rotation=90, labelsize = 9)\n",
    "ax.set_title('Total Aisles in Department VS Department ID', size = 10)\n",
    "fig.savefig('./plot/Total Aisles in Department VS Department ID.png')"
   ]
  },
  {
   "cell_type": "code",
   "execution_count": null,
   "metadata": {},
   "outputs": [],
   "source": [
    "sparkConn.connect().close()"
   ]
  }
 ],
 "metadata": {
  "kernelspec": {
   "display_name": "Python 3 (ipykernel)",
   "language": "python",
   "name": "python3"
  },
  "language_info": {
   "codemirror_mode": {
    "name": "ipython",
    "version": 3
   },
   "file_extension": ".py",
   "mimetype": "text/x-python",
   "name": "python",
   "nbconvert_exporter": "python",
   "pygments_lexer": "ipython3",
   "version": "3.10.4"
  }
 },
 "nbformat": 4,
 "nbformat_minor": 4
}
